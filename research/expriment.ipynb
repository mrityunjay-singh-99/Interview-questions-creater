{
 "cells": [
  {
   "cell_type": "code",
   "execution_count": 47,
   "id": "285df6bc",
   "metadata": {},
   "outputs": [],
   "source": [
    "import os\n",
    "from dotenv import load_dotenv"
   ]
  },
  {
   "cell_type": "code",
   "execution_count": 48,
   "id": "f33a1638",
   "metadata": {},
   "outputs": [
    {
     "data": {
      "text/plain": [
       "''"
      ]
     },
     "execution_count": 48,
     "metadata": {},
     "output_type": "execute_result"
    }
   ],
   "source": [
    "load_dotenv()\n",
    "\n",
    "OPEN_API_KEY = os.getenv(\"OPEN_API_KEY\")\n",
    "OPEN_API_KEY"
   ]
  },
  {
   "cell_type": "code",
   "execution_count": 49,
   "id": "ac95b1c7",
   "metadata": {},
   "outputs": [],
   "source": [
    "os.environ[\"OPEN_API_KEY\"] = OPEN_API_KEY"
   ]
  },
  {
   "cell_type": "code",
   "execution_count": 50,
   "id": "64b49714",
   "metadata": {},
   "outputs": [],
   "source": [
    "from langchain.document_loaders import PyPDFLoader"
   ]
  },
  {
   "cell_type": "code",
   "execution_count": 51,
   "id": "17e71fa3",
   "metadata": {},
   "outputs": [
    {
     "data": {
      "text/plain": [
       "'c:\\\\Users\\\\Mrityunjay\\\\Desktop\\\\AI Development\\\\folder'"
      ]
     },
     "execution_count": 51,
     "metadata": {},
     "output_type": "execute_result"
    }
   ],
   "source": [
    "%pwd"
   ]
  },
  {
   "cell_type": "code",
   "execution_count": 52,
   "id": "4e13ead5",
   "metadata": {},
   "outputs": [
    {
     "name": "stdout",
     "output_type": "stream",
     "text": [
      "c:\\Users\\Mrityunjay\\Desktop\\AI Development\n"
     ]
    }
   ],
   "source": [
    "%cd .."
   ]
  },
  {
   "cell_type": "code",
   "execution_count": 53,
   "id": "04652ce4",
   "metadata": {},
   "outputs": [
    {
     "data": {
      "text/plain": [
       "'c:\\\\Users\\\\Mrityunjay\\\\Desktop\\\\AI Development'"
      ]
     },
     "execution_count": 53,
     "metadata": {},
     "output_type": "execute_result"
    }
   ],
   "source": [
    "%pwd"
   ]
  },
  {
   "cell_type": "code",
   "execution_count": 54,
   "id": "843e9fb0",
   "metadata": {},
   "outputs": [
    {
     "ename": "ValueError",
     "evalue": "File path data/SDG.pdf is not a valid file or url",
     "output_type": "error",
     "traceback": [
      "\u001b[1;31m---------------------------------------------------------------------------\u001b[0m",
      "\u001b[1;31mValueError\u001b[0m                                Traceback (most recent call last)",
      "Cell \u001b[1;32mIn[54], line 3\u001b[0m\n\u001b[0;32m      1\u001b[0m file_path \u001b[38;5;241m=\u001b[39m \u001b[38;5;124m\"\u001b[39m\u001b[38;5;124mdata/SDG.pdf\u001b[39m\u001b[38;5;124m\"\u001b[39m\n\u001b[1;32m----> 3\u001b[0m loader \u001b[38;5;241m=\u001b[39m \u001b[43mPyPDFLoader\u001b[49m\u001b[43m(\u001b[49m\u001b[43mfile_path\u001b[49m\u001b[38;5;241;43m=\u001b[39;49m\u001b[43mfile_path\u001b[49m\u001b[43m)\u001b[49m\n\u001b[0;32m      4\u001b[0m data \u001b[38;5;241m=\u001b[39mloader\u001b[38;5;241m.\u001b[39mload()\n",
      "File \u001b[1;32mc:\\Users\\Mrityunjay\\miniconda3\\envs\\interview_q_creater\\lib\\site-packages\\langchain_community\\document_loaders\\pdf.py:281\u001b[0m, in \u001b[0;36mPyPDFLoader.__init__\u001b[1;34m(self, file_path, password, headers, extract_images, mode, images_parser, images_inner_format, pages_delimiter, extraction_mode, extraction_kwargs)\u001b[0m\n\u001b[0;32m    238\u001b[0m \u001b[38;5;28;01mdef\u001b[39;00m\u001b[38;5;250m \u001b[39m\u001b[38;5;21m__init__\u001b[39m(\n\u001b[0;32m    239\u001b[0m     \u001b[38;5;28mself\u001b[39m,\n\u001b[0;32m    240\u001b[0m     file_path: Union[\u001b[38;5;28mstr\u001b[39m, PurePath],\n\u001b[1;32m   (...)\u001b[0m\n\u001b[0;32m    250\u001b[0m     extraction_kwargs: Optional[\u001b[38;5;28mdict\u001b[39m] \u001b[38;5;241m=\u001b[39m \u001b[38;5;28;01mNone\u001b[39;00m,\n\u001b[0;32m    251\u001b[0m ) \u001b[38;5;241m-\u001b[39m\u001b[38;5;241m>\u001b[39m \u001b[38;5;28;01mNone\u001b[39;00m:\n\u001b[0;32m    252\u001b[0m \u001b[38;5;250m    \u001b[39m\u001b[38;5;124;03m\"\"\"Initialize with a file path.\u001b[39;00m\n\u001b[0;32m    253\u001b[0m \n\u001b[0;32m    254\u001b[0m \u001b[38;5;124;03m    Args:\u001b[39;00m\n\u001b[1;32m   (...)\u001b[0m\n\u001b[0;32m    279\u001b[0m \u001b[38;5;124;03m        `aload` methods to retrieve parsed documents with content and metadata.\u001b[39;00m\n\u001b[0;32m    280\u001b[0m \u001b[38;5;124;03m    \"\"\"\u001b[39;00m\n\u001b[1;32m--> 281\u001b[0m     \u001b[38;5;28;43msuper\u001b[39;49m\u001b[43m(\u001b[49m\u001b[43m)\u001b[49m\u001b[38;5;241;43m.\u001b[39;49m\u001b[38;5;21;43m__init__\u001b[39;49m\u001b[43m(\u001b[49m\u001b[43mfile_path\u001b[49m\u001b[43m,\u001b[49m\u001b[43m \u001b[49m\u001b[43mheaders\u001b[49m\u001b[38;5;241;43m=\u001b[39;49m\u001b[43mheaders\u001b[49m\u001b[43m)\u001b[49m\n\u001b[0;32m    282\u001b[0m     \u001b[38;5;28mself\u001b[39m\u001b[38;5;241m.\u001b[39mparser \u001b[38;5;241m=\u001b[39m PyPDFParser(\n\u001b[0;32m    283\u001b[0m         password\u001b[38;5;241m=\u001b[39mpassword,\n\u001b[0;32m    284\u001b[0m         mode\u001b[38;5;241m=\u001b[39mmode,\n\u001b[1;32m   (...)\u001b[0m\n\u001b[0;32m    290\u001b[0m         extraction_kwargs\u001b[38;5;241m=\u001b[39mextraction_kwargs,\n\u001b[0;32m    291\u001b[0m     )\n",
      "File \u001b[1;32mc:\\Users\\Mrityunjay\\miniconda3\\envs\\interview_q_creater\\lib\\site-packages\\langchain_community\\document_loaders\\pdf.py:140\u001b[0m, in \u001b[0;36mBasePDFLoader.__init__\u001b[1;34m(self, file_path, headers)\u001b[0m\n\u001b[0;32m    138\u001b[0m         \u001b[38;5;28mself\u001b[39m\u001b[38;5;241m.\u001b[39mfile_path \u001b[38;5;241m=\u001b[39m \u001b[38;5;28mstr\u001b[39m(temp_pdf)\n\u001b[0;32m    139\u001b[0m \u001b[38;5;28;01melif\u001b[39;00m \u001b[38;5;129;01mnot\u001b[39;00m os\u001b[38;5;241m.\u001b[39mpath\u001b[38;5;241m.\u001b[39misfile(\u001b[38;5;28mself\u001b[39m\u001b[38;5;241m.\u001b[39mfile_path):\n\u001b[1;32m--> 140\u001b[0m     \u001b[38;5;28;01mraise\u001b[39;00m \u001b[38;5;167;01mValueError\u001b[39;00m(\u001b[38;5;124m\"\u001b[39m\u001b[38;5;124mFile path \u001b[39m\u001b[38;5;132;01m%s\u001b[39;00m\u001b[38;5;124m is not a valid file or url\u001b[39m\u001b[38;5;124m\"\u001b[39m \u001b[38;5;241m%\u001b[39m \u001b[38;5;28mself\u001b[39m\u001b[38;5;241m.\u001b[39mfile_path)\n",
      "\u001b[1;31mValueError\u001b[0m: File path data/SDG.pdf is not a valid file or url"
     ]
    }
   ],
   "source": [
    "file_path = \"data/SDG.pdf\"\n",
    "\n",
    "loader = PyPDFLoader(file_path=file_path)\n",
    "data =loader.load()"
   ]
  },
  {
   "cell_type": "code",
   "execution_count": null,
   "id": "4bedbd6e",
   "metadata": {},
   "outputs": [
    {
     "data": {
      "text/plain": [
       "[Document(metadata={'producer': 'Adobe PDF Library 15.0', 'creator': 'Adobe InDesign CC 13.0 (Macintosh)', 'creationdate': '2017-12-26T16:03:25-05:00', 'moddate': '2017-12-27T15:29:10-05:00', 'trapped': '/False', 'source': 'data/SDG.pdf', 'total_pages': 24, 'page': 0, 'page_label': '1'}, page_content=''),\n",
       " Document(metadata={'producer': 'Adobe PDF Library 15.0', 'creator': 'Adobe InDesign CC 13.0 (Macintosh)', 'creationdate': '2017-12-26T16:03:25-05:00', 'moddate': '2017-12-27T15:29:10-05:00', 'trapped': '/False', 'source': 'data/SDG.pdf', 'total_pages': 24, 'page': 1, 'page_label': '2'}, page_content=''),\n",
       " Document(metadata={'producer': 'Adobe PDF Library 15.0', 'creator': 'Adobe InDesign CC 13.0 (Macintosh)', 'creationdate': '2017-12-26T16:03:25-05:00', 'moddate': '2017-12-27T15:29:10-05:00', 'trapped': '/False', 'source': 'data/SDG.pdf', 'total_pages': 24, 'page': 2, 'page_label': '3'}, page_content='IN THE YEAR 2015, LEADERS FROM 193 COUNTRIES OF THE WORLD \\nCAME TOGETHER TO FACE THE FUTURE.\\nAnd what they saw was daunting. Famines. Drought. Wars. Plagues. Poverty. \\nNot just in some faraway place, but in their own cities and towns and villages.\\nThey knew things didn’t have to be this way. They knew we had enough  \\nfood to feed the world, but that it wasn’t getting shared. They knew there \\nwere medicines for HIV and other diseases, but they cost a lot. They knew  \\nthat earthquakes and floods were inevitable, but that the high death  \\ntolls were not. \\nThey also knew that billions of people worldwide shared their hope for a \\nbetter future.\\nSo leaders from these countries created a plan called the Sustainable \\nDevelopment Goals (SDGs). This set of 17 goals imagines a future just 15 years \\noff that would be rid of poverty and hunger, and safe from the worst effects of \\nclimate change. It’s an ambitious plan. \\nBut there’s ample evidence that we can succeed. In the past 15 years, the \\ninternational community cut extreme poverty in half. \\nNow we can finish the job.\\nThe United Nations Development Programme (UNDP) is one of the leading \\norganizations working to fulfil the SDGs by the year 2030. Present in nearly \\n170 countries and territories, we help nations make the Goals a reality.  \\nWe also champion the Goals so that people everywhere know how to  \\ndo their part. \\nUNDP is proud to continue as a leader in this global movement.\\nLearn about the Sustainable Development Goals.  What’s your Goal?'),\n",
       " Document(metadata={'producer': 'Adobe PDF Library 15.0', 'creator': 'Adobe InDesign CC 13.0 (Macintosh)', 'creationdate': '2017-12-26T16:03:25-05:00', 'moddate': '2017-12-27T15:29:10-05:00', 'trapped': '/False', 'source': 'data/SDG.pdf', 'total_pages': 24, 'page': 3, 'page_label': '4'}, page_content='END EXTREME POVERTY IN ALL FORMS  \\nBY 2030.\\nYes, it’s an ambitious goal—but we believe it can be done. In 2000, the \\nworld committed to halving the number of people living in extreme \\npoverty by the year 2015 and we met this goal. However, more than \\n800 million people around the world still live on less than $1.25 a day—\\nthat’s about the equivalent of the entire population of Europe living in \\nextreme poverty. Now it’s time to build on what we learned and end \\npoverty altogether.'),\n",
       " Document(metadata={'producer': 'Adobe PDF Library 15.0', 'creator': 'Adobe InDesign CC 13.0 (Macintosh)', 'creationdate': '2017-12-26T16:03:25-05:00', 'moddate': '2017-12-27T15:29:10-05:00', 'trapped': '/False', 'source': 'data/SDG.pdf', 'total_pages': 24, 'page': 4, 'page_label': '5'}, page_content='END HUNGER, ACHIEVE FOOD SECURITY \\nAND IMPROVED NUTRITION AND PROMOTE \\nSUSTAINABLE AGRICUL TURE\\nIn the past 20 years, hunger has dropped by almost half. Many \\ncountries that used to suffer from famine and hunger can now \\nmeet the nutritional needs of their most vulnerable people. It’s an \\nincredible accomplishment. Now we can go further and end hunger \\nand malnutrition once and for all. That means doing things such as \\npromoting sustainable agriculture and supporting small farmers. It’s a tall \\norder. But for the sake of the nearly 1 out of every 9 people on earth who \\ngo to bed hungry every night, we’ve got to try. Imagine a world where \\neveryone has access to sufficient and nutritious food all year round. \\nTogether, we can make that a reality by 2030.'),\n",
       " Document(metadata={'producer': 'Adobe PDF Library 15.0', 'creator': 'Adobe InDesign CC 13.0 (Macintosh)', 'creationdate': '2017-12-26T16:03:25-05:00', 'moddate': '2017-12-27T15:29:10-05:00', 'trapped': '/False', 'source': 'data/SDG.pdf', 'total_pages': 24, 'page': 5, 'page_label': '6'}, page_content='ENSURE HEAL THY LIVES AND PROMOTE \\nWELL-BEING FOR ALL AT ALL AGES\\nWe all know how important it is to be in good health. Our health affects \\neverything from how much we enjoy life to what work we can perform. \\nThat’s why there’s a Goal to make sure everyone has health coverage \\nand access to safe and effective medicines and vaccines. In the 25 \\nyears before the SDGs, we made big strides—preventable child deaths \\ndropped by more than half, and maternal mortality went down by \\nalmost as much. And yet some other numbers remain tragically high, like \\nthe fact that 6 million children die every year before their fifth birthday, \\nor that AIDS is the leading cause of death for adolescents in sub-Saharan \\nAfrica. We have the means to turn that around and make good health \\nmore than just a wish.'),\n",
       " Document(metadata={'producer': 'Adobe PDF Library 15.0', 'creator': 'Adobe InDesign CC 13.0 (Macintosh)', 'creationdate': '2017-12-26T16:03:25-05:00', 'moddate': '2017-12-27T15:29:10-05:00', 'trapped': '/False', 'source': 'data/SDG.pdf', 'total_pages': 24, 'page': 6, 'page_label': '7'}, page_content='ENSURE INCLUSIVE AND EQUITABLE QUALITY \\nEDUCATION AND PROMOTE LIFELONG \\nLEARNING OPPORTUNITIES FOR ALL  \\nFirst, the bad news on education. Poverty, armed conflict and other \\nemergencies keep many, many kids around the world out of school. In \\nfact, kids from the poorest households are four times more likely to be \\nout of school than those of the richest households. Now for some good \\nnews. Since 2000, there has been enormous progress on the goal to \\nprovide primary education to all children worldwide: the total enrolment \\nrate in developing regions has reached 91%. By measures in any school, \\nthat’s a good grade. Now, let’s get an even better grade for all kids, \\nand achieve the goal of universal primary and secondary education, \\naffordable vocational training, access to higher education and more.'),\n",
       " Document(metadata={'producer': 'Adobe PDF Library 15.0', 'creator': 'Adobe InDesign CC 13.0 (Macintosh)', 'creationdate': '2017-12-26T16:03:25-05:00', 'moddate': '2017-12-27T15:29:10-05:00', 'trapped': '/False', 'source': 'data/SDG.pdf', 'total_pages': 24, 'page': 7, 'page_label': '8'}, page_content='We can celebrate the great progress the world has made in becoming \\nmore prosperous and fair. But there’s a shadow to the celebration. In \\njust about every way, women and girls lag behind. There are still gross \\ninequalities in work and wages, lots of unpaid “women’s work” such as \\nchild care and domestic work, and discrimination in public decision-\\nmaking. But there are grounds for hope. More girls are in school now \\ncompared to in 2000. Most regions have reached gender parity in \\nprimary education. The percentage of women getting paid for their work \\nis on the rise. The Sustainable Development Goals aim to build on these \\nachievements to ensure that there is an end to discrimination against \\nwomen and girls everywhere.ACHIEVE GENDER EQUALITY AND  \\nEMPOWER ALL WOMEN AND GIRLS'),\n",
       " Document(metadata={'producer': 'Adobe PDF Library 15.0', 'creator': 'Adobe InDesign CC 13.0 (Macintosh)', 'creationdate': '2017-12-26T16:03:25-05:00', 'moddate': '2017-12-27T15:29:10-05:00', 'trapped': '/False', 'source': 'data/SDG.pdf', 'total_pages': 24, 'page': 8, 'page_label': '9'}, page_content='Everyone on earth should have access to safe and affordable drinking \\nwater. That’s the goal for 2030. While many people take clean drinking \\nwater and sanitation for granted, many others don’t. Water scarcity \\naffects more than 40 percent of people around the world, and that \\nnumber is projected to go even higher as a result of climate change. \\nIf we continue the path we’re on, by 2050 at least one in four people \\nare likely to be affected by recurring water shortages. But we can take \\na new path—more international cooperation, protecting wetlands \\nand rivers, sharing water-treatment technologies—that leads to \\naccomplishing this Goal. ENSURE AVAILABILITY AND SUSTAINABLE \\nMANAGEMENT OF WATER AND SANITATION \\nFOR ALL'),\n",
       " Document(metadata={'producer': 'Adobe PDF Library 15.0', 'creator': 'Adobe InDesign CC 13.0 (Macintosh)', 'creationdate': '2017-12-26T16:03:25-05:00', 'moddate': '2017-12-27T15:29:10-05:00', 'trapped': '/False', 'source': 'data/SDG.pdf', 'total_pages': 24, 'page': 9, 'page_label': '10'}, page_content='ENSURE ACCESS TO AFFORDABLE, RELIABLE, \\nSUSTAINABLE AND MODERN ENERGY FOR \\nALL \\nBetween 1990 and 2010, the number of people with access to electricity \\nincreased by 1.7 billion. That’s progress to be proud of. And yet as the \\nworld’s population continues to rise, still more people will need cheap \\nenergy to light their homes and streets, use phones and computers, \\nand do their everyday business. How we get that energy is at issue; fossil \\nfuels and greenhouse gas emissions are making drastic changes in the \\nclimate, leading to big problems on every continent. Instead, we can \\nbecome more energy-efficient and invest in clean energy sources such \\nas solar and wind. That way we’ll meet electricity needs and protect the \\nenvironment. How’s that for a balancing act?'),\n",
       " Document(metadata={'producer': 'Adobe PDF Library 15.0', 'creator': 'Adobe InDesign CC 13.0 (Macintosh)', 'creationdate': '2017-12-26T16:03:25-05:00', 'moddate': '2017-12-27T15:29:10-05:00', 'trapped': '/False', 'source': 'data/SDG.pdf', 'total_pages': 24, 'page': 10, 'page_label': '11'}, page_content='PROMOTE SUSTAINED, INCLUSIVE AND \\nSUSTAINABLE ECONOMIC GROWTH, FULL \\nAND PRODUCTIVE EMPLOYMENT AND \\nDECENT WORK FOR ALL \\nAn important part of economic growth is that people have jobs that \\npay enough to support themselves and their families. The good news \\nis that the middle class is growing worldwide—almost tripling in size \\nin developing countries in the last 25 years, to more than a third of the \\npopulation. But today, job growth is not keeping pace with the growing \\nlabour force. Things don’t have to be that way. We can promote policies \\nthat encourage entrepreneurship and job creation. We can eradicate \\nforced labour, slavery and human trafficking. And in the end we can \\nachieve the goal of decent work for all women and men by 2030.'),\n",
       " Document(metadata={'producer': 'Adobe PDF Library 15.0', 'creator': 'Adobe InDesign CC 13.0 (Macintosh)', 'creationdate': '2017-12-26T16:03:25-05:00', 'moddate': '2017-12-27T15:29:10-05:00', 'trapped': '/False', 'source': 'data/SDG.pdf', 'total_pages': 24, 'page': 11, 'page_label': '12'}, page_content='BUILD RESILIENT INFRASTRUCTURE, \\nPROMOTE INCLUSIVE AND SUSTAINABLE \\nINDUSTRIALIZATION AND FOSTER \\nINNOVATION \\nTechnological progress helps us address big global challenges such as \\ncreating jobs and becoming more energy efficient. For example, the \\nworld is becoming ever more interconnected and prosperous thanks to \\nthe internet. The more connected we are, the more we can all benefit \\nfrom the wisdom and contributions of people everywhere on earth.  And \\nyet four billion people have no way of getting online, the vast majority \\nof them in developing countries. The more we invest in innovation \\nand infrastructure, the better off we’ll all be. Bridging the digital divide, \\npromoting sustainable industries, and investing in scientific research and \\ninnovation are all important ways to facilitate sustainable development.'),\n",
       " Document(metadata={'producer': 'Adobe PDF Library 15.0', 'creator': 'Adobe InDesign CC 13.0 (Macintosh)', 'creationdate': '2017-12-26T16:03:25-05:00', 'moddate': '2017-12-27T15:29:10-05:00', 'trapped': '/False', 'source': 'data/SDG.pdf', 'total_pages': 24, 'page': 12, 'page_label': '13'}, page_content='REDUCE INEQUALITY WITHIN AND AMONG \\nCOUNTRIES  \\nIt’s an old story: the rich get richer, and the poor get poorer. The divide \\nhas never been starker. We can and must adopt policies that create \\nopportunity for everyone, regardless of who they are or where they \\ncome from. Income inequality is a global problem that requires global \\nsolutions. That means improving the regulation of financial markets \\nand institutions, sending development aid where it is most needed \\nand helping people migrate safely so they can pursue opportunities. \\nTogether, we can now change the direction of the old story of inequality.'),\n",
       " Document(metadata={'producer': 'Adobe PDF Library 15.0', 'creator': 'Adobe InDesign CC 13.0 (Macintosh)', 'creationdate': '2017-12-26T16:03:25-05:00', 'moddate': '2017-12-27T15:29:10-05:00', 'trapped': '/False', 'source': 'data/SDG.pdf', 'total_pages': 24, 'page': 13, 'page_label': '14'}, page_content='MAKE CITIES AND HUMAN SETTLEMENTS \\nINCLUSIVE, SAFE, RESILIENT AND \\nSUSTAINABLE \\nIf you’re like most people, you live in a city. More than half the world’s \\npopulation now lives in cities, and that figure will go to about two-thirds \\nof humanity by the year 2050. Cities are getting bigger. In 1990 there \\nwere ten “mega-cities” with 10 million inhabitants or more. In 2014, there \\nwere 28 mega-cities, home to 453 million people. Incredible, huh? A lot \\nof people love cities; they’re centers of culture and business and life. The \\nthing is, they’re also often centers of extreme poverty. To make cities \\nsustainable for all, we can create good, affordable public housing. We \\ncan upgrade slum settlements. We can invest in public transport, create \\ngreen spaces, and get a broader range of people involved in urban \\nplanning decisions. That way, we can keep the things we love about \\ncities, and change the things we don’t.'),\n",
       " Document(metadata={'producer': 'Adobe PDF Library 15.0', 'creator': 'Adobe InDesign CC 13.0 (Macintosh)', 'creationdate': '2017-12-26T16:03:25-05:00', 'moddate': '2017-12-27T15:29:10-05:00', 'trapped': '/False', 'source': 'data/SDG.pdf', 'total_pages': 24, 'page': 14, 'page_label': '15'}, page_content='ENSURE SUSTAINABLE CONSUMPTION AND \\nPRODUCTION PATTERNS\\nSome people use a lot of stuff, and some people use very little—in fact, \\na big share of the world population is consuming too little to meet even \\ntheir basic needs. Instead, we can have a world where everybody gets \\nwhat they need to survive and thrive. And we can consume in a way \\nthat preserves our natural resources so that our children can enjoy them, \\nand their children and their children after that. The hard part is how to \\nachieve that goal. We can manage our natural resources more efficiently \\nand dispose of toxic waste better. Cut per capita food waste in half \\nglobally. Get businesses and consumers to reduce and recycle waste. \\nAnd help countries that have typically not consumed a lot to move \\ntowards more responsible consumption patterns.'),\n",
       " Document(metadata={'producer': 'Adobe PDF Library 15.0', 'creator': 'Adobe InDesign CC 13.0 (Macintosh)', 'creationdate': '2017-12-26T16:03:25-05:00', 'moddate': '2017-12-27T15:29:10-05:00', 'trapped': '/False', 'source': 'data/SDG.pdf', 'total_pages': 24, 'page': 15, 'page_label': '16'}, page_content='TAKE URGENT ACTION TO COMBAT CLIMATE \\nCHANGE AND ITS IMPACTS\\nEvery country in the world is seeing the drastic effects of climate \\nchange, some more than others. On average, the annual losses just \\nfrom earthquakes, tsunamis, tropical cyclones and flooding count in the \\nhundreds of billions of dollars. We can reduce the loss of life and property \\nby helping more vulnerable regions—such as land-locked countries \\nand island states—become more resilient. It is still possible, with the \\npolitical will and technological measures, to limit the increase in global \\nmean temperature to two degrees Celsius above pre-industrial levels—\\nand thus avoid the worst effects of climate change. The Sustainable \\nDevelopment Goals lay out a way for countries to work together to meet \\nthis urgent challenge.'),\n",
       " Document(metadata={'producer': 'Adobe PDF Library 15.0', 'creator': 'Adobe InDesign CC 13.0 (Macintosh)', 'creationdate': '2017-12-26T16:03:25-05:00', 'moddate': '2017-12-27T15:29:10-05:00', 'trapped': '/False', 'source': 'data/SDG.pdf', 'total_pages': 24, 'page': 16, 'page_label': '17'}, page_content='CONSERVE AND SUSTAINABLY USE THE \\nOCEANS, SEAS AND MARINE RESOURCES \\nFOR SUSTAINABLE DEVELOPMENT\\nThe oceans make human life possible. Their temperature, their chemistry, \\ntheir currents, their life forms. For one thing, more than 3 billion people \\ndepend on marine and coastal diversity for their livelihoods. But today \\nwe are seeing nearly a third of the world’s fish stocks overexploited. \\nThat’s not a sustainable way of life. Even people who live nowhere near \\nthe ocean can’t live without it. Oceans absorb about 30 percent of the \\ncarbon dioxide that humans produce; but we’re producing more carbon \\ndioxide than ever before and that makes the oceans more acidic—26% \\nmore, since the start of the industrial revolution. Our trash doesn’t help \\neither—13,000 pieces of plastic litter on every square kilometer of ocean. \\nSounds bad, right? Don’t despair! The Sustainable Development Goals \\nindicate targets for managing and protecting life below water.'),\n",
       " Document(metadata={'producer': 'Adobe PDF Library 15.0', 'creator': 'Adobe InDesign CC 13.0 (Macintosh)', 'creationdate': '2017-12-26T16:03:25-05:00', 'moddate': '2017-12-27T15:29:10-05:00', 'trapped': '/False', 'source': 'data/SDG.pdf', 'total_pages': 24, 'page': 17, 'page_label': '18'}, page_content='PROTECT, RESTORE AND PROMOTE \\nSUSTAINABLE USE OF TERRESTRIAL \\nECOSYSTEMS, SUSTAINABLY MANAGE \\nFORESTS, COMBAT DESERTIFICATION, AND \\nHAL T AND REVERSE LAND DEGRADATION \\nAND HAL T BIODIVERSITY LOSS \\nHumans and other animals rely on other forms of life on land for food, \\nclean air, clean water, and as a means of combatting climate change. \\nPlant life makes up 80% of the human diet. Forests, which cover 30% \\nof the Earth’s surface, help keep the air and water clean and the Earth’s \\nclimate in balance. That’s not to mention they’re home to millions of \\nanimal species. But the land and life on it are in trouble. Arable land \\nis disappearing 30 to 35 times faster than it has historically. Deserts \\nare spreading. Animal breeds are going extinct. We can turn these \\ntrends around. Fortunately, the Sustainable Development Goals aim to \\nconserve and restore the use of terrestrial ecosystems such as forests, \\nwetlands, drylands and mountains by 2030.'),\n",
       " Document(metadata={'producer': 'Adobe PDF Library 15.0', 'creator': 'Adobe InDesign CC 13.0 (Macintosh)', 'creationdate': '2017-12-26T16:03:25-05:00', 'moddate': '2017-12-27T15:29:10-05:00', 'trapped': '/False', 'source': 'data/SDG.pdf', 'total_pages': 24, 'page': 18, 'page_label': '19'}, page_content='PROMOTE PEACEFUL AND INCLUSIVE \\nSOCIETIES FOR SUSTAINABLE \\nDEVELOPMENT, PROVIDE ACCESS TO \\nJUSTICE FOR ALL AND BUILD EFFECTIVE, \\nACCOUNTABLE AND INCLUSIVE \\nINSTITUTIONS AT ALL LEVELS \\nHow can a country develop—how can people eat and teach and learn \\nand work and raise families—without peace? And how can a country \\nhave peace without justice, without human rights, without government \\nbased on the rule of law? Some parts of the world enjoy relative peace \\nand justice, and may come to take it for granted. Other parts seem to \\nbe plagued by armed conflict, crime, torture and exploitation, all of \\nwhich hinders their development. The goal of peace and justice is one \\nfor all countries to strive towards. The Sustainable Development Goals \\naim to reduce all forms of violence and propose that governments \\nand communities find lasting solutions to conflict and insecurity. That \\nmeans strengthening the rule of law, reducing the flow of illicit arms, \\nand bringing developing countries more into the center of institutions \\nof global governance.'),\n",
       " Document(metadata={'producer': 'Adobe PDF Library 15.0', 'creator': 'Adobe InDesign CC 13.0 (Macintosh)', 'creationdate': '2017-12-26T16:03:25-05:00', 'moddate': '2017-12-27T15:29:10-05:00', 'trapped': '/False', 'source': 'data/SDG.pdf', 'total_pages': 24, 'page': 19, 'page_label': '20'}, page_content='STRENGTHEN THE MEANS OF \\nIMPLEMENTATION AND REVITALIZE THE \\nGLOBAL PARTNERSHIP FOR SUSTAINABLE \\nDEVELOPMENT \\nThe Sustainable Development Goals are pretty big to-do list, don’t you \\nthink? In fact, it’s so big, you may just want to throw your hands up in the \\nair. “Forget it! Can’t be done! Why even try!” But we’ve got a lot going for \\nus. The world is more interconnected today than ever before, thanks to \\nthe internet, travel and global institutions. There’s a growing consensus \\nabout the need to work together to stop climate change. And the \\nSustainable Development Goals are no small matter either. 193 countries \\nagreed on these goals. Pretty incredible, isn’t it? 193 countries agreeing \\non anything? The final goal lays out a way for nations to work together to \\nachieve all the other Goals.'),\n",
       " Document(metadata={'producer': 'Adobe PDF Library 15.0', 'creator': 'Adobe InDesign CC 13.0 (Macintosh)', 'creationdate': '2017-12-26T16:03:25-05:00', 'moddate': '2017-12-27T15:29:10-05:00', 'trapped': '/False', 'source': 'data/SDG.pdf', 'total_pages': 24, 'page': 20, 'page_label': '21'}, page_content='Go shopping  Make a donation  \\nStart a fundraiser  \\nSpread the word  Visit shop.undp.org for SDG merchandise, and show off the goals you’re \\nmost passionate about. Money doesn’t just make the world go around; it’s also the most direct \\nway to reduce and eradicate all forms of poverty.\\nFundraising is a great way to raise money, create awareness, and inspire \\nothers. Plus, it’s fun!\\nSearch for @UNDP on Twitter, Facebook and Instagram, and share the \\ncontent you love.\\nTo donate or learn more about fundraising, visit undp.org/takeactionThere are many ways to show your support and help us reach \\nthe Sustainable Development Goals by 2030. Here are a few :WHA T CAN  \\nI DO TO HELP?'),\n",
       " Document(metadata={'producer': 'Adobe PDF Library 15.0', 'creator': 'Adobe InDesign CC 13.0 (Macintosh)', 'creationdate': '2017-12-26T16:03:25-05:00', 'moddate': '2017-12-27T15:29:10-05:00', 'trapped': '/False', 'source': 'data/SDG.pdf', 'total_pages': 24, 'page': 21, 'page_label': '22'}, page_content='NOTES'),\n",
       " Document(metadata={'producer': 'Adobe PDF Library 15.0', 'creator': 'Adobe InDesign CC 13.0 (Macintosh)', 'creationdate': '2017-12-26T16:03:25-05:00', 'moddate': '2017-12-27T15:29:10-05:00', 'trapped': '/False', 'source': 'data/SDG.pdf', 'total_pages': 24, 'page': 22, 'page_label': '23'}, page_content='NOTES'),\n",
       " Document(metadata={'producer': 'Adobe PDF Library 15.0', 'creator': 'Adobe InDesign CC 13.0 (Macintosh)', 'creationdate': '2017-12-26T16:03:25-05:00', 'moddate': '2017-12-27T15:29:10-05:00', 'trapped': '/False', 'source': 'data/SDG.pdf', 'total_pages': 24, 'page': 23, 'page_label': '24'}, page_content='')]"
      ]
     },
     "execution_count": 9,
     "metadata": {},
     "output_type": "execute_result"
    }
   ],
   "source": [
    "data"
   ]
  },
  {
   "cell_type": "code",
   "execution_count": null,
   "id": "138146b4",
   "metadata": {},
   "outputs": [],
   "source": [
    "question_doc = \"\"\n",
    "for page in data:\n",
    "    question_doc += page.page_content"
   ]
  },
  {
   "cell_type": "code",
   "execution_count": null,
   "id": "ee8537bb",
   "metadata": {},
   "outputs": [
    {
     "data": {
      "text/plain": [
       "'IN THE YEAR 2015, LEADERS FROM 193 COUNTRIES OF THE WORLD \\nCAME TOGETHER TO FACE THE FUTURE.\\nAnd what they saw was daunting. Famines. Drought. Wars. Plagues. Poverty. \\nNot just in some faraway place, but in their own cities and towns and villages.\\nThey knew things didn’t have to be this way. They knew we had enough  \\nfood to feed the world, but that it wasn’t getting shared. They knew there \\nwere medicines for HIV and other diseases, but they cost a lot. They knew  \\nthat earthquakes and floods were inevitable, but that the high death  \\ntolls were not. \\nThey also knew that billions of people worldwide shared their hope for a \\nbetter future.\\nSo leaders from these countries created a plan called the Sustainable \\nDevelopment Goals (SDGs). This set of 17 goals imagines a future just 15 years \\noff that would be rid of poverty and hunger, and safe from the worst effects of \\nclimate change. It’s an ambitious plan. \\nBut there’s ample evidence that we can succeed. In the past 15 years, the \\ninternational community cut extreme poverty in half. \\nNow we can finish the job.\\nThe United Nations Development Programme (UNDP) is one of the leading \\norganizations working to fulfil the SDGs by the year 2030. Present in nearly \\n170 countries and territories, we help nations make the Goals a reality.  \\nWe also champion the Goals so that people everywhere know how to  \\ndo their part. \\nUNDP is proud to continue as a leader in this global movement.\\nLearn about the Sustainable Development Goals.  What’s your Goal?END EXTREME POVERTY IN ALL FORMS  \\nBY 2030.\\nYes, it’s an ambitious goal—but we believe it can be done. In 2000, the \\nworld committed to halving the number of people living in extreme \\npoverty by the year 2015 and we met this goal. However, more than \\n800 million people around the world still live on less than $1.25 a day—\\nthat’s about the equivalent of the entire population of Europe living in \\nextreme poverty. Now it’s time to build on what we learned and end \\npoverty altogether.END HUNGER, ACHIEVE FOOD SECURITY \\nAND IMPROVED NUTRITION AND PROMOTE \\nSUSTAINABLE AGRICUL TURE\\nIn the past 20 years, hunger has dropped by almost half. Many \\ncountries that used to suffer from famine and hunger can now \\nmeet the nutritional needs of their most vulnerable people. It’s an \\nincredible accomplishment. Now we can go further and end hunger \\nand malnutrition once and for all. That means doing things such as \\npromoting sustainable agriculture and supporting small farmers. It’s a tall \\norder. But for the sake of the nearly 1 out of every 9 people on earth who \\ngo to bed hungry every night, we’ve got to try. Imagine a world where \\neveryone has access to sufficient and nutritious food all year round. \\nTogether, we can make that a reality by 2030.ENSURE HEAL THY LIVES AND PROMOTE \\nWELL-BEING FOR ALL AT ALL AGES\\nWe all know how important it is to be in good health. Our health affects \\neverything from how much we enjoy life to what work we can perform. \\nThat’s why there’s a Goal to make sure everyone has health coverage \\nand access to safe and effective medicines and vaccines. In the 25 \\nyears before the SDGs, we made big strides—preventable child deaths \\ndropped by more than half, and maternal mortality went down by \\nalmost as much. And yet some other numbers remain tragically high, like \\nthe fact that 6 million children die every year before their fifth birthday, \\nor that AIDS is the leading cause of death for adolescents in sub-Saharan \\nAfrica. We have the means to turn that around and make good health \\nmore than just a wish.ENSURE INCLUSIVE AND EQUITABLE QUALITY \\nEDUCATION AND PROMOTE LIFELONG \\nLEARNING OPPORTUNITIES FOR ALL  \\nFirst, the bad news on education. Poverty, armed conflict and other \\nemergencies keep many, many kids around the world out of school. In \\nfact, kids from the poorest households are four times more likely to be \\nout of school than those of the richest households. Now for some good \\nnews. Since 2000, there has been enormous progress on the goal to \\nprovide primary education to all children worldwide: the total enrolment \\nrate in developing regions has reached 91%. By measures in any school, \\nthat’s a good grade. Now, let’s get an even better grade for all kids, \\nand achieve the goal of universal primary and secondary education, \\naffordable vocational training, access to higher education and more.We can celebrate the great progress the world has made in becoming \\nmore prosperous and fair. But there’s a shadow to the celebration. In \\njust about every way, women and girls lag behind. There are still gross \\ninequalities in work and wages, lots of unpaid “women’s work” such as \\nchild care and domestic work, and discrimination in public decision-\\nmaking. But there are grounds for hope. More girls are in school now \\ncompared to in 2000. Most regions have reached gender parity in \\nprimary education. The percentage of women getting paid for their work \\nis on the rise. The Sustainable Development Goals aim to build on these \\nachievements to ensure that there is an end to discrimination against \\nwomen and girls everywhere.ACHIEVE GENDER EQUALITY AND  \\nEMPOWER ALL WOMEN AND GIRLSEveryone on earth should have access to safe and affordable drinking \\nwater. That’s the goal for 2030. While many people take clean drinking \\nwater and sanitation for granted, many others don’t. Water scarcity \\naffects more than 40 percent of people around the world, and that \\nnumber is projected to go even higher as a result of climate change. \\nIf we continue the path we’re on, by 2050 at least one in four people \\nare likely to be affected by recurring water shortages. But we can take \\na new path—more international cooperation, protecting wetlands \\nand rivers, sharing water-treatment technologies—that leads to \\naccomplishing this Goal. ENSURE AVAILABILITY AND SUSTAINABLE \\nMANAGEMENT OF WATER AND SANITATION \\nFOR ALLENSURE ACCESS TO AFFORDABLE, RELIABLE, \\nSUSTAINABLE AND MODERN ENERGY FOR \\nALL \\nBetween 1990 and 2010, the number of people with access to electricity \\nincreased by 1.7 billion. That’s progress to be proud of. And yet as the \\nworld’s population continues to rise, still more people will need cheap \\nenergy to light their homes and streets, use phones and computers, \\nand do their everyday business. How we get that energy is at issue; fossil \\nfuels and greenhouse gas emissions are making drastic changes in the \\nclimate, leading to big problems on every continent. Instead, we can \\nbecome more energy-efficient and invest in clean energy sources such \\nas solar and wind. That way we’ll meet electricity needs and protect the \\nenvironment. How’s that for a balancing act?PROMOTE SUSTAINED, INCLUSIVE AND \\nSUSTAINABLE ECONOMIC GROWTH, FULL \\nAND PRODUCTIVE EMPLOYMENT AND \\nDECENT WORK FOR ALL \\nAn important part of economic growth is that people have jobs that \\npay enough to support themselves and their families. The good news \\nis that the middle class is growing worldwide—almost tripling in size \\nin developing countries in the last 25 years, to more than a third of the \\npopulation. But today, job growth is not keeping pace with the growing \\nlabour force. Things don’t have to be that way. We can promote policies \\nthat encourage entrepreneurship and job creation. We can eradicate \\nforced labour, slavery and human trafficking. And in the end we can \\nachieve the goal of decent work for all women and men by 2030.BUILD RESILIENT INFRASTRUCTURE, \\nPROMOTE INCLUSIVE AND SUSTAINABLE \\nINDUSTRIALIZATION AND FOSTER \\nINNOVATION \\nTechnological progress helps us address big global challenges such as \\ncreating jobs and becoming more energy efficient. For example, the \\nworld is becoming ever more interconnected and prosperous thanks to \\nthe internet. The more connected we are, the more we can all benefit \\nfrom the wisdom and contributions of people everywhere on earth.  And \\nyet four billion people have no way of getting online, the vast majority \\nof them in developing countries. The more we invest in innovation \\nand infrastructure, the better off we’ll all be. Bridging the digital divide, \\npromoting sustainable industries, and investing in scientific research and \\ninnovation are all important ways to facilitate sustainable development.REDUCE INEQUALITY WITHIN AND AMONG \\nCOUNTRIES  \\nIt’s an old story: the rich get richer, and the poor get poorer. The divide \\nhas never been starker. We can and must adopt policies that create \\nopportunity for everyone, regardless of who they are or where they \\ncome from. Income inequality is a global problem that requires global \\nsolutions. That means improving the regulation of financial markets \\nand institutions, sending development aid where it is most needed \\nand helping people migrate safely so they can pursue opportunities. \\nTogether, we can now change the direction of the old story of inequality.MAKE CITIES AND HUMAN SETTLEMENTS \\nINCLUSIVE, SAFE, RESILIENT AND \\nSUSTAINABLE \\nIf you’re like most people, you live in a city. More than half the world’s \\npopulation now lives in cities, and that figure will go to about two-thirds \\nof humanity by the year 2050. Cities are getting bigger. In 1990 there \\nwere ten “mega-cities” with 10 million inhabitants or more. In 2014, there \\nwere 28 mega-cities, home to 453 million people. Incredible, huh? A lot \\nof people love cities; they’re centers of culture and business and life. The \\nthing is, they’re also often centers of extreme poverty. To make cities \\nsustainable for all, we can create good, affordable public housing. We \\ncan upgrade slum settlements. We can invest in public transport, create \\ngreen spaces, and get a broader range of people involved in urban \\nplanning decisions. That way, we can keep the things we love about \\ncities, and change the things we don’t.ENSURE SUSTAINABLE CONSUMPTION AND \\nPRODUCTION PATTERNS\\nSome people use a lot of stuff, and some people use very little—in fact, \\na big share of the world population is consuming too little to meet even \\ntheir basic needs. Instead, we can have a world where everybody gets \\nwhat they need to survive and thrive. And we can consume in a way \\nthat preserves our natural resources so that our children can enjoy them, \\nand their children and their children after that. The hard part is how to \\nachieve that goal. We can manage our natural resources more efficiently \\nand dispose of toxic waste better. Cut per capita food waste in half \\nglobally. Get businesses and consumers to reduce and recycle waste. \\nAnd help countries that have typically not consumed a lot to move \\ntowards more responsible consumption patterns.TAKE URGENT ACTION TO COMBAT CLIMATE \\nCHANGE AND ITS IMPACTS\\nEvery country in the world is seeing the drastic effects of climate \\nchange, some more than others. On average, the annual losses just \\nfrom earthquakes, tsunamis, tropical cyclones and flooding count in the \\nhundreds of billions of dollars. We can reduce the loss of life and property \\nby helping more vulnerable regions—such as land-locked countries \\nand island states—become more resilient. It is still possible, with the \\npolitical will and technological measures, to limit the increase in global \\nmean temperature to two degrees Celsius above pre-industrial levels—\\nand thus avoid the worst effects of climate change. The Sustainable \\nDevelopment Goals lay out a way for countries to work together to meet \\nthis urgent challenge.CONSERVE AND SUSTAINABLY USE THE \\nOCEANS, SEAS AND MARINE RESOURCES \\nFOR SUSTAINABLE DEVELOPMENT\\nThe oceans make human life possible. Their temperature, their chemistry, \\ntheir currents, their life forms. For one thing, more than 3 billion people \\ndepend on marine and coastal diversity for their livelihoods. But today \\nwe are seeing nearly a third of the world’s fish stocks overexploited. \\nThat’s not a sustainable way of life. Even people who live nowhere near \\nthe ocean can’t live without it. Oceans absorb about 30 percent of the \\ncarbon dioxide that humans produce; but we’re producing more carbon \\ndioxide than ever before and that makes the oceans more acidic—26% \\nmore, since the start of the industrial revolution. Our trash doesn’t help \\neither—13,000 pieces of plastic litter on every square kilometer of ocean. \\nSounds bad, right? Don’t despair! The Sustainable Development Goals \\nindicate targets for managing and protecting life below water.PROTECT, RESTORE AND PROMOTE \\nSUSTAINABLE USE OF TERRESTRIAL \\nECOSYSTEMS, SUSTAINABLY MANAGE \\nFORESTS, COMBAT DESERTIFICATION, AND \\nHAL T AND REVERSE LAND DEGRADATION \\nAND HAL T BIODIVERSITY LOSS \\nHumans and other animals rely on other forms of life on land for food, \\nclean air, clean water, and as a means of combatting climate change. \\nPlant life makes up 80% of the human diet. Forests, which cover 30% \\nof the Earth’s surface, help keep the air and water clean and the Earth’s \\nclimate in balance. That’s not to mention they’re home to millions of \\nanimal species. But the land and life on it are in trouble. Arable land \\nis disappearing 30 to 35 times faster than it has historically. Deserts \\nare spreading. Animal breeds are going extinct. We can turn these \\ntrends around. Fortunately, the Sustainable Development Goals aim to \\nconserve and restore the use of terrestrial ecosystems such as forests, \\nwetlands, drylands and mountains by 2030.PROMOTE PEACEFUL AND INCLUSIVE \\nSOCIETIES FOR SUSTAINABLE \\nDEVELOPMENT, PROVIDE ACCESS TO \\nJUSTICE FOR ALL AND BUILD EFFECTIVE, \\nACCOUNTABLE AND INCLUSIVE \\nINSTITUTIONS AT ALL LEVELS \\nHow can a country develop—how can people eat and teach and learn \\nand work and raise families—without peace? And how can a country \\nhave peace without justice, without human rights, without government \\nbased on the rule of law? Some parts of the world enjoy relative peace \\nand justice, and may come to take it for granted. Other parts seem to \\nbe plagued by armed conflict, crime, torture and exploitation, all of \\nwhich hinders their development. The goal of peace and justice is one \\nfor all countries to strive towards. The Sustainable Development Goals \\naim to reduce all forms of violence and propose that governments \\nand communities find lasting solutions to conflict and insecurity. That \\nmeans strengthening the rule of law, reducing the flow of illicit arms, \\nand bringing developing countries more into the center of institutions \\nof global governance.STRENGTHEN THE MEANS OF \\nIMPLEMENTATION AND REVITALIZE THE \\nGLOBAL PARTNERSHIP FOR SUSTAINABLE \\nDEVELOPMENT \\nThe Sustainable Development Goals are pretty big to-do list, don’t you \\nthink? In fact, it’s so big, you may just want to throw your hands up in the \\nair. “Forget it! Can’t be done! Why even try!” But we’ve got a lot going for \\nus. The world is more interconnected today than ever before, thanks to \\nthe internet, travel and global institutions. There’s a growing consensus \\nabout the need to work together to stop climate change. And the \\nSustainable Development Goals are no small matter either. 193 countries \\nagreed on these goals. Pretty incredible, isn’t it? 193 countries agreeing \\non anything? The final goal lays out a way for nations to work together to \\nachieve all the other Goals.Go shopping  Make a donation  \\nStart a fundraiser  \\nSpread the word  Visit shop.undp.org for SDG merchandise, and show off the goals you’re \\nmost passionate about. Money doesn’t just make the world go around; it’s also the most direct \\nway to reduce and eradicate all forms of poverty.\\nFundraising is a great way to raise money, create awareness, and inspire \\nothers. Plus, it’s fun!\\nSearch for @UNDP on Twitter, Facebook and Instagram, and share the \\ncontent you love.\\nTo donate or learn more about fundraising, visit undp.org/takeactionThere are many ways to show your support and help us reach \\nthe Sustainable Development Goals by 2030. Here are a few :WHA T CAN  \\nI DO TO HELP?NOTESNOTES'"
      ]
     },
     "execution_count": 11,
     "metadata": {},
     "output_type": "execute_result"
    }
   ],
   "source": [
    "question_doc"
   ]
  },
  {
   "cell_type": "code",
   "execution_count": null,
   "id": "b6bacfb3",
   "metadata": {},
   "outputs": [],
   "source": [
    "from langchain.text_splitter import TokenTextSplitter"
   ]
  },
  {
   "cell_type": "code",
   "execution_count": null,
   "id": "a9d52c42",
   "metadata": {},
   "outputs": [],
   "source": [
    "spliter_question_doc = TokenTextSplitter(\n",
    "    model_name = \"gpt-3.5-turbo\",\n",
    "    chunk_size = 10000,\n",
    "    chunk_overlap = 200\n",
    ")"
   ]
  },
  {
   "cell_type": "code",
   "execution_count": null,
   "id": "4051eb1e",
   "metadata": {},
   "outputs": [],
   "source": [
    "chunk_question_doc = spliter_question_doc.split_text(question_doc)"
   ]
  },
  {
   "cell_type": "code",
   "execution_count": null,
   "id": "6465972d",
   "metadata": {},
   "outputs": [
    {
     "data": {
      "text/plain": [
       "['IN THE YEAR 2015, LEADERS FROM 193 COUNTRIES OF THE WORLD \\nCAME TOGETHER TO FACE THE FUTURE.\\nAnd what they saw was daunting. Famines. Drought. Wars. Plagues. Poverty. \\nNot just in some faraway place, but in their own cities and towns and villages.\\nThey knew things didn’t have to be this way. They knew we had enough  \\nfood to feed the world, but that it wasn’t getting shared. They knew there \\nwere medicines for HIV and other diseases, but they cost a lot. They knew  \\nthat earthquakes and floods were inevitable, but that the high death  \\ntolls were not. \\nThey also knew that billions of people worldwide shared their hope for a \\nbetter future.\\nSo leaders from these countries created a plan called the Sustainable \\nDevelopment Goals (SDGs). This set of 17 goals imagines a future just 15 years \\noff that would be rid of poverty and hunger, and safe from the worst effects of \\nclimate change. It’s an ambitious plan. \\nBut there’s ample evidence that we can succeed. In the past 15 years, the \\ninternational community cut extreme poverty in half. \\nNow we can finish the job.\\nThe United Nations Development Programme (UNDP) is one of the leading \\norganizations working to fulfil the SDGs by the year 2030. Present in nearly \\n170 countries and territories, we help nations make the Goals a reality.  \\nWe also champion the Goals so that people everywhere know how to  \\ndo their part. \\nUNDP is proud to continue as a leader in this global movement.\\nLearn about the Sustainable Development Goals.  What’s your Goal?END EXTREME POVERTY IN ALL FORMS  \\nBY 2030.\\nYes, it’s an ambitious goal—but we believe it can be done. In 2000, the \\nworld committed to halving the number of people living in extreme \\npoverty by the year 2015 and we met this goal. However, more than \\n800 million people around the world still live on less than $1.25 a day—\\nthat’s about the equivalent of the entire population of Europe living in \\nextreme poverty. Now it’s time to build on what we learned and end \\npoverty altogether.END HUNGER, ACHIEVE FOOD SECURITY \\nAND IMPROVED NUTRITION AND PROMOTE \\nSUSTAINABLE AGRICUL TURE\\nIn the past 20 years, hunger has dropped by almost half. Many \\ncountries that used to suffer from famine and hunger can now \\nmeet the nutritional needs of their most vulnerable people. It’s an \\nincredible accomplishment. Now we can go further and end hunger \\nand malnutrition once and for all. That means doing things such as \\npromoting sustainable agriculture and supporting small farmers. It’s a tall \\norder. But for the sake of the nearly 1 out of every 9 people on earth who \\ngo to bed hungry every night, we’ve got to try. Imagine a world where \\neveryone has access to sufficient and nutritious food all year round. \\nTogether, we can make that a reality by 2030.ENSURE HEAL THY LIVES AND PROMOTE \\nWELL-BEING FOR ALL AT ALL AGES\\nWe all know how important it is to be in good health. Our health affects \\neverything from how much we enjoy life to what work we can perform. \\nThat’s why there’s a Goal to make sure everyone has health coverage \\nand access to safe and effective medicines and vaccines. In the 25 \\nyears before the SDGs, we made big strides—preventable child deaths \\ndropped by more than half, and maternal mortality went down by \\nalmost as much. And yet some other numbers remain tragically high, like \\nthe fact that 6 million children die every year before their fifth birthday, \\nor that AIDS is the leading cause of death for adolescents in sub-Saharan \\nAfrica. We have the means to turn that around and make good health \\nmore than just a wish.ENSURE INCLUSIVE AND EQUITABLE QUALITY \\nEDUCATION AND PROMOTE LIFELONG \\nLEARNING OPPORTUNITIES FOR ALL  \\nFirst, the bad news on education. Poverty, armed conflict and other \\nemergencies keep many, many kids around the world out of school. In \\nfact, kids from the poorest households are four times more likely to be \\nout of school than those of the richest households. Now for some good \\nnews. Since 2000, there has been enormous progress on the goal to \\nprovide primary education to all children worldwide: the total enrolment \\nrate in developing regions has reached 91%. By measures in any school, \\nthat’s a good grade. Now, let’s get an even better grade for all kids, \\nand achieve the goal of universal primary and secondary education, \\naffordable vocational training, access to higher education and more.We can celebrate the great progress the world has made in becoming \\nmore prosperous and fair. But there’s a shadow to the celebration. In \\njust about every way, women and girls lag behind. There are still gross \\ninequalities in work and wages, lots of unpaid “women’s work” such as \\nchild care and domestic work, and discrimination in public decision-\\nmaking. But there are grounds for hope. More girls are in school now \\ncompared to in 2000. Most regions have reached gender parity in \\nprimary education. The percentage of women getting paid for their work \\nis on the rise. The Sustainable Development Goals aim to build on these \\nachievements to ensure that there is an end to discrimination against \\nwomen and girls everywhere.ACHIEVE GENDER EQUALITY AND  \\nEMPOWER ALL WOMEN AND GIRLSEveryone on earth should have access to safe and affordable drinking \\nwater. That’s the goal for 2030. While many people take clean drinking \\nwater and sanitation for granted, many others don’t. Water scarcity \\naffects more than 40 percent of people around the world, and that \\nnumber is projected to go even higher as a result of climate change. \\nIf we continue the path we’re on, by 2050 at least one in four people \\nare likely to be affected by recurring water shortages. But we can take \\na new path—more international cooperation, protecting wetlands \\nand rivers, sharing water-treatment technologies—that leads to \\naccomplishing this Goal. ENSURE AVAILABILITY AND SUSTAINABLE \\nMANAGEMENT OF WATER AND SANITATION \\nFOR ALLENSURE ACCESS TO AFFORDABLE, RELIABLE, \\nSUSTAINABLE AND MODERN ENERGY FOR \\nALL \\nBetween 1990 and 2010, the number of people with access to electricity \\nincreased by 1.7 billion. That’s progress to be proud of. And yet as the \\nworld’s population continues to rise, still more people will need cheap \\nenergy to light their homes and streets, use phones and computers, \\nand do their everyday business. How we get that energy is at issue; fossil \\nfuels and greenhouse gas emissions are making drastic changes in the \\nclimate, leading to big problems on every continent. Instead, we can \\nbecome more energy-efficient and invest in clean energy sources such \\nas solar and wind. That way we’ll meet electricity needs and protect the \\nenvironment. How’s that for a balancing act?PROMOTE SUSTAINED, INCLUSIVE AND \\nSUSTAINABLE ECONOMIC GROWTH, FULL \\nAND PRODUCTIVE EMPLOYMENT AND \\nDECENT WORK FOR ALL \\nAn important part of economic growth is that people have jobs that \\npay enough to support themselves and their families. The good news \\nis that the middle class is growing worldwide—almost tripling in size \\nin developing countries in the last 25 years, to more than a third of the \\npopulation. But today, job growth is not keeping pace with the growing \\nlabour force. Things don’t have to be that way. We can promote policies \\nthat encourage entrepreneurship and job creation. We can eradicate \\nforced labour, slavery and human trafficking. And in the end we can \\nachieve the goal of decent work for all women and men by 2030.BUILD RESILIENT INFRASTRUCTURE, \\nPROMOTE INCLUSIVE AND SUSTAINABLE \\nINDUSTRIALIZATION AND FOSTER \\nINNOVATION \\nTechnological progress helps us address big global challenges such as \\ncreating jobs and becoming more energy efficient. For example, the \\nworld is becoming ever more interconnected and prosperous thanks to \\nthe internet. The more connected we are, the more we can all benefit \\nfrom the wisdom and contributions of people everywhere on earth.  And \\nyet four billion people have no way of getting online, the vast majority \\nof them in developing countries. The more we invest in innovation \\nand infrastructure, the better off we’ll all be. Bridging the digital divide, \\npromoting sustainable industries, and investing in scientific research and \\ninnovation are all important ways to facilitate sustainable development.REDUCE INEQUALITY WITHIN AND AMONG \\nCOUNTRIES  \\nIt’s an old story: the rich get richer, and the poor get poorer. The divide \\nhas never been starker. We can and must adopt policies that create \\nopportunity for everyone, regardless of who they are or where they \\ncome from. Income inequality is a global problem that requires global \\nsolutions. That means improving the regulation of financial markets \\nand institutions, sending development aid where it is most needed \\nand helping people migrate safely so they can pursue opportunities. \\nTogether, we can now change the direction of the old story of inequality.MAKE CITIES AND HUMAN SETTLEMENTS \\nINCLUSIVE, SAFE, RESILIENT AND \\nSUSTAINABLE \\nIf you’re like most people, you live in a city. More than half the world’s \\npopulation now lives in cities, and that figure will go to about two-thirds \\nof humanity by the year 2050. Cities are getting bigger. In 1990 there \\nwere ten “mega-cities” with 10 million inhabitants or more. In 2014, there \\nwere 28 mega-cities, home to 453 million people. Incredible, huh? A lot \\nof people love cities; they’re centers of culture and business and life. The \\nthing is, they’re also often centers of extreme poverty. To make cities \\nsustainable for all, we can create good, affordable public housing. We \\ncan upgrade slum settlements. We can invest in public transport, create \\ngreen spaces, and get a broader range of people involved in urban \\nplanning decisions. That way, we can keep the things we love about \\ncities, and change the things we don’t.ENSURE SUSTAINABLE CONSUMPTION AND \\nPRODUCTION PATTERNS\\nSome people use a lot of stuff, and some people use very little—in fact, \\na big share of the world population is consuming too little to meet even \\ntheir basic needs. Instead, we can have a world where everybody gets \\nwhat they need to survive and thrive. And we can consume in a way \\nthat preserves our natural resources so that our children can enjoy them, \\nand their children and their children after that. The hard part is how to \\nachieve that goal. We can manage our natural resources more efficiently \\nand dispose of toxic waste better. Cut per capita food waste in half \\nglobally. Get businesses and consumers to reduce and recycle waste. \\nAnd help countries that have typically not consumed a lot to move \\ntowards more responsible consumption patterns.TAKE URGENT ACTION TO COMBAT CLIMATE \\nCHANGE AND ITS IMPACTS\\nEvery country in the world is seeing the drastic effects of climate \\nchange, some more than others. On average, the annual losses just \\nfrom earthquakes, tsunamis, tropical cyclones and flooding count in the \\nhundreds of billions of dollars. We can reduce the loss of life and property \\nby helping more vulnerable regions—such as land-locked countries \\nand island states—become more resilient. It is still possible, with the \\npolitical will and technological measures, to limit the increase in global \\nmean temperature to two degrees Celsius above pre-industrial levels—\\nand thus avoid the worst effects of climate change. The Sustainable \\nDevelopment Goals lay out a way for countries to work together to meet \\nthis urgent challenge.CONSERVE AND SUSTAINABLY USE THE \\nOCEANS, SEAS AND MARINE RESOURCES \\nFOR SUSTAINABLE DEVELOPMENT\\nThe oceans make human life possible. Their temperature, their chemistry, \\ntheir currents, their life forms. For one thing, more than 3 billion people \\ndepend on marine and coastal diversity for their livelihoods. But today \\nwe are seeing nearly a third of the world’s fish stocks overexploited. \\nThat’s not a sustainable way of life. Even people who live nowhere near \\nthe ocean can’t live without it. Oceans absorb about 30 percent of the \\ncarbon dioxide that humans produce; but we’re producing more carbon \\ndioxide than ever before and that makes the oceans more acidic—26% \\nmore, since the start of the industrial revolution. Our trash doesn’t help \\neither—13,000 pieces of plastic litter on every square kilometer of ocean. \\nSounds bad, right? Don’t despair! The Sustainable Development Goals \\nindicate targets for managing and protecting life below water.PROTECT, RESTORE AND PROMOTE \\nSUSTAINABLE USE OF TERRESTRIAL \\nECOSYSTEMS, SUSTAINABLY MANAGE \\nFORESTS, COMBAT DESERTIFICATION, AND \\nHAL T AND REVERSE LAND DEGRADATION \\nAND HAL T BIODIVERSITY LOSS \\nHumans and other animals rely on other forms of life on land for food, \\nclean air, clean water, and as a means of combatting climate change. \\nPlant life makes up 80% of the human diet. Forests, which cover 30% \\nof the Earth’s surface, help keep the air and water clean and the Earth’s \\nclimate in balance. That’s not to mention they’re home to millions of \\nanimal species. But the land and life on it are in trouble. Arable land \\nis disappearing 30 to 35 times faster than it has historically. Deserts \\nare spreading. Animal breeds are going extinct. We can turn these \\ntrends around. Fortunately, the Sustainable Development Goals aim to \\nconserve and restore the use of terrestrial ecosystems such as forests, \\nwetlands, drylands and mountains by 2030.PROMOTE PEACEFUL AND INCLUSIVE \\nSOCIETIES FOR SUSTAINABLE \\nDEVELOPMENT, PROVIDE ACCESS TO \\nJUSTICE FOR ALL AND BUILD EFFECTIVE, \\nACCOUNTABLE AND INCLUSIVE \\nINSTITUTIONS AT ALL LEVELS \\nHow can a country develop—how can people eat and teach and learn \\nand work and raise families—without peace? And how can a country \\nhave peace without justice, without human rights, without government \\nbased on the rule of law? Some parts of the world enjoy relative peace \\nand justice, and may come to take it for granted. Other parts seem to \\nbe plagued by armed conflict, crime, torture and exploitation, all of \\nwhich hinders their development. The goal of peace and justice is one \\nfor all countries to strive towards. The Sustainable Development Goals \\naim to reduce all forms of violence and propose that governments \\nand communities find lasting solutions to conflict and insecurity. That \\nmeans strengthening the rule of law, reducing the flow of illicit arms, \\nand bringing developing countries more into the center of institutions \\nof global governance.STRENGTHEN THE MEANS OF \\nIMPLEMENTATION AND REVITALIZE THE \\nGLOBAL PARTNERSHIP FOR SUSTAINABLE \\nDEVELOPMENT \\nThe Sustainable Development Goals are pretty big to-do list, don’t you \\nthink? In fact, it’s so big, you may just want to throw your hands up in the \\nair. “Forget it! Can’t be done! Why even try!” But we’ve got a lot going for \\nus. The world is more interconnected today than ever before, thanks to \\nthe internet, travel and global institutions. There’s a growing consensus \\nabout the need to work together to stop climate change. And the \\nSustainable Development Goals are no small matter either. 193 countries \\nagreed on these goals. Pretty incredible, isn’t it? 193 countries agreeing \\non anything? The final goal lays out a way for nations to work together to \\nachieve all the other Goals.Go shopping  Make a donation  \\nStart a fundraiser  \\nSpread the word  Visit shop.undp.org for SDG merchandise, and show off the goals you’re \\nmost passionate about. Money doesn’t just make the world go around; it’s also the most direct \\nway to reduce and eradicate all forms of poverty.\\nFundraising is a great way to raise money, create awareness, and inspire \\nothers. Plus, it’s fun!\\nSearch for @UNDP on Twitter, Facebook and Instagram, and share the \\ncontent you love.\\nTo donate or learn more about fundraising, visit undp.org/takeactionThere are many ways to show your support and help us reach \\nthe Sustainable Development Goals by 2030. Here are a few :WHA T CAN  \\nI DO TO HELP?NOTESNOTES']"
      ]
     },
     "execution_count": 15,
     "metadata": {},
     "output_type": "execute_result"
    }
   ],
   "source": [
    "chunk_question_doc"
   ]
  },
  {
   "cell_type": "code",
   "execution_count": null,
   "id": "9c335ea6",
   "metadata": {},
   "outputs": [],
   "source": [
    "from langchain.docstore.document import Document"
   ]
  },
  {
   "cell_type": "code",
   "execution_count": null,
   "id": "593ba818",
   "metadata": {},
   "outputs": [],
   "source": [
    "document_ques_gen = [Document(page_content = i) for i in chunk_question_doc]"
   ]
  },
  {
   "cell_type": "code",
   "execution_count": null,
   "id": "5926b092",
   "metadata": {},
   "outputs": [
    {
     "data": {
      "text/plain": [
       "[Document(metadata={}, page_content='IN THE YEAR 2015, LEADERS FROM 193 COUNTRIES OF THE WORLD \\nCAME TOGETHER TO FACE THE FUTURE.\\nAnd what they saw was daunting. Famines. Drought. Wars. Plagues. Poverty. \\nNot just in some faraway place, but in their own cities and towns and villages.\\nThey knew things didn’t have to be this way. They knew we had enough  \\nfood to feed the world, but that it wasn’t getting shared. They knew there \\nwere medicines for HIV and other diseases, but they cost a lot. They knew  \\nthat earthquakes and floods were inevitable, but that the high death  \\ntolls were not. \\nThey also knew that billions of people worldwide shared their hope for a \\nbetter future.\\nSo leaders from these countries created a plan called the Sustainable \\nDevelopment Goals (SDGs). This set of 17 goals imagines a future just 15 years \\noff that would be rid of poverty and hunger, and safe from the worst effects of \\nclimate change. It’s an ambitious plan. \\nBut there’s ample evidence that we can succeed. In the past 15 years, the \\ninternational community cut extreme poverty in half. \\nNow we can finish the job.\\nThe United Nations Development Programme (UNDP) is one of the leading \\norganizations working to fulfil the SDGs by the year 2030. Present in nearly \\n170 countries and territories, we help nations make the Goals a reality.  \\nWe also champion the Goals so that people everywhere know how to  \\ndo their part. \\nUNDP is proud to continue as a leader in this global movement.\\nLearn about the Sustainable Development Goals.  What’s your Goal?END EXTREME POVERTY IN ALL FORMS  \\nBY 2030.\\nYes, it’s an ambitious goal—but we believe it can be done. In 2000, the \\nworld committed to halving the number of people living in extreme \\npoverty by the year 2015 and we met this goal. However, more than \\n800 million people around the world still live on less than $1.25 a day—\\nthat’s about the equivalent of the entire population of Europe living in \\nextreme poverty. Now it’s time to build on what we learned and end \\npoverty altogether.END HUNGER, ACHIEVE FOOD SECURITY \\nAND IMPROVED NUTRITION AND PROMOTE \\nSUSTAINABLE AGRICUL TURE\\nIn the past 20 years, hunger has dropped by almost half. Many \\ncountries that used to suffer from famine and hunger can now \\nmeet the nutritional needs of their most vulnerable people. It’s an \\nincredible accomplishment. Now we can go further and end hunger \\nand malnutrition once and for all. That means doing things such as \\npromoting sustainable agriculture and supporting small farmers. It’s a tall \\norder. But for the sake of the nearly 1 out of every 9 people on earth who \\ngo to bed hungry every night, we’ve got to try. Imagine a world where \\neveryone has access to sufficient and nutritious food all year round. \\nTogether, we can make that a reality by 2030.ENSURE HEAL THY LIVES AND PROMOTE \\nWELL-BEING FOR ALL AT ALL AGES\\nWe all know how important it is to be in good health. Our health affects \\neverything from how much we enjoy life to what work we can perform. \\nThat’s why there’s a Goal to make sure everyone has health coverage \\nand access to safe and effective medicines and vaccines. In the 25 \\nyears before the SDGs, we made big strides—preventable child deaths \\ndropped by more than half, and maternal mortality went down by \\nalmost as much. And yet some other numbers remain tragically high, like \\nthe fact that 6 million children die every year before their fifth birthday, \\nor that AIDS is the leading cause of death for adolescents in sub-Saharan \\nAfrica. We have the means to turn that around and make good health \\nmore than just a wish.ENSURE INCLUSIVE AND EQUITABLE QUALITY \\nEDUCATION AND PROMOTE LIFELONG \\nLEARNING OPPORTUNITIES FOR ALL  \\nFirst, the bad news on education. Poverty, armed conflict and other \\nemergencies keep many, many kids around the world out of school. In \\nfact, kids from the poorest households are four times more likely to be \\nout of school than those of the richest households. Now for some good \\nnews. Since 2000, there has been enormous progress on the goal to \\nprovide primary education to all children worldwide: the total enrolment \\nrate in developing regions has reached 91%. By measures in any school, \\nthat’s a good grade. Now, let’s get an even better grade for all kids, \\nand achieve the goal of universal primary and secondary education, \\naffordable vocational training, access to higher education and more.We can celebrate the great progress the world has made in becoming \\nmore prosperous and fair. But there’s a shadow to the celebration. In \\njust about every way, women and girls lag behind. There are still gross \\ninequalities in work and wages, lots of unpaid “women’s work” such as \\nchild care and domestic work, and discrimination in public decision-\\nmaking. But there are grounds for hope. More girls are in school now \\ncompared to in 2000. Most regions have reached gender parity in \\nprimary education. The percentage of women getting paid for their work \\nis on the rise. The Sustainable Development Goals aim to build on these \\nachievements to ensure that there is an end to discrimination against \\nwomen and girls everywhere.ACHIEVE GENDER EQUALITY AND  \\nEMPOWER ALL WOMEN AND GIRLSEveryone on earth should have access to safe and affordable drinking \\nwater. That’s the goal for 2030. While many people take clean drinking \\nwater and sanitation for granted, many others don’t. Water scarcity \\naffects more than 40 percent of people around the world, and that \\nnumber is projected to go even higher as a result of climate change. \\nIf we continue the path we’re on, by 2050 at least one in four people \\nare likely to be affected by recurring water shortages. But we can take \\na new path—more international cooperation, protecting wetlands \\nand rivers, sharing water-treatment technologies—that leads to \\naccomplishing this Goal. ENSURE AVAILABILITY AND SUSTAINABLE \\nMANAGEMENT OF WATER AND SANITATION \\nFOR ALLENSURE ACCESS TO AFFORDABLE, RELIABLE, \\nSUSTAINABLE AND MODERN ENERGY FOR \\nALL \\nBetween 1990 and 2010, the number of people with access to electricity \\nincreased by 1.7 billion. That’s progress to be proud of. And yet as the \\nworld’s population continues to rise, still more people will need cheap \\nenergy to light their homes and streets, use phones and computers, \\nand do their everyday business. How we get that energy is at issue; fossil \\nfuels and greenhouse gas emissions are making drastic changes in the \\nclimate, leading to big problems on every continent. Instead, we can \\nbecome more energy-efficient and invest in clean energy sources such \\nas solar and wind. That way we’ll meet electricity needs and protect the \\nenvironment. How’s that for a balancing act?PROMOTE SUSTAINED, INCLUSIVE AND \\nSUSTAINABLE ECONOMIC GROWTH, FULL \\nAND PRODUCTIVE EMPLOYMENT AND \\nDECENT WORK FOR ALL \\nAn important part of economic growth is that people have jobs that \\npay enough to support themselves and their families. The good news \\nis that the middle class is growing worldwide—almost tripling in size \\nin developing countries in the last 25 years, to more than a third of the \\npopulation. But today, job growth is not keeping pace with the growing \\nlabour force. Things don’t have to be that way. We can promote policies \\nthat encourage entrepreneurship and job creation. We can eradicate \\nforced labour, slavery and human trafficking. And in the end we can \\nachieve the goal of decent work for all women and men by 2030.BUILD RESILIENT INFRASTRUCTURE, \\nPROMOTE INCLUSIVE AND SUSTAINABLE \\nINDUSTRIALIZATION AND FOSTER \\nINNOVATION \\nTechnological progress helps us address big global challenges such as \\ncreating jobs and becoming more energy efficient. For example, the \\nworld is becoming ever more interconnected and prosperous thanks to \\nthe internet. The more connected we are, the more we can all benefit \\nfrom the wisdom and contributions of people everywhere on earth.  And \\nyet four billion people have no way of getting online, the vast majority \\nof them in developing countries. The more we invest in innovation \\nand infrastructure, the better off we’ll all be. Bridging the digital divide, \\npromoting sustainable industries, and investing in scientific research and \\ninnovation are all important ways to facilitate sustainable development.REDUCE INEQUALITY WITHIN AND AMONG \\nCOUNTRIES  \\nIt’s an old story: the rich get richer, and the poor get poorer. The divide \\nhas never been starker. We can and must adopt policies that create \\nopportunity for everyone, regardless of who they are or where they \\ncome from. Income inequality is a global problem that requires global \\nsolutions. That means improving the regulation of financial markets \\nand institutions, sending development aid where it is most needed \\nand helping people migrate safely so they can pursue opportunities. \\nTogether, we can now change the direction of the old story of inequality.MAKE CITIES AND HUMAN SETTLEMENTS \\nINCLUSIVE, SAFE, RESILIENT AND \\nSUSTAINABLE \\nIf you’re like most people, you live in a city. More than half the world’s \\npopulation now lives in cities, and that figure will go to about two-thirds \\nof humanity by the year 2050. Cities are getting bigger. In 1990 there \\nwere ten “mega-cities” with 10 million inhabitants or more. In 2014, there \\nwere 28 mega-cities, home to 453 million people. Incredible, huh? A lot \\nof people love cities; they’re centers of culture and business and life. The \\nthing is, they’re also often centers of extreme poverty. To make cities \\nsustainable for all, we can create good, affordable public housing. We \\ncan upgrade slum settlements. We can invest in public transport, create \\ngreen spaces, and get a broader range of people involved in urban \\nplanning decisions. That way, we can keep the things we love about \\ncities, and change the things we don’t.ENSURE SUSTAINABLE CONSUMPTION AND \\nPRODUCTION PATTERNS\\nSome people use a lot of stuff, and some people use very little—in fact, \\na big share of the world population is consuming too little to meet even \\ntheir basic needs. Instead, we can have a world where everybody gets \\nwhat they need to survive and thrive. And we can consume in a way \\nthat preserves our natural resources so that our children can enjoy them, \\nand their children and their children after that. The hard part is how to \\nachieve that goal. We can manage our natural resources more efficiently \\nand dispose of toxic waste better. Cut per capita food waste in half \\nglobally. Get businesses and consumers to reduce and recycle waste. \\nAnd help countries that have typically not consumed a lot to move \\ntowards more responsible consumption patterns.TAKE URGENT ACTION TO COMBAT CLIMATE \\nCHANGE AND ITS IMPACTS\\nEvery country in the world is seeing the drastic effects of climate \\nchange, some more than others. On average, the annual losses just \\nfrom earthquakes, tsunamis, tropical cyclones and flooding count in the \\nhundreds of billions of dollars. We can reduce the loss of life and property \\nby helping more vulnerable regions—such as land-locked countries \\nand island states—become more resilient. It is still possible, with the \\npolitical will and technological measures, to limit the increase in global \\nmean temperature to two degrees Celsius above pre-industrial levels—\\nand thus avoid the worst effects of climate change. The Sustainable \\nDevelopment Goals lay out a way for countries to work together to meet \\nthis urgent challenge.CONSERVE AND SUSTAINABLY USE THE \\nOCEANS, SEAS AND MARINE RESOURCES \\nFOR SUSTAINABLE DEVELOPMENT\\nThe oceans make human life possible. Their temperature, their chemistry, \\ntheir currents, their life forms. For one thing, more than 3 billion people \\ndepend on marine and coastal diversity for their livelihoods. But today \\nwe are seeing nearly a third of the world’s fish stocks overexploited. \\nThat’s not a sustainable way of life. Even people who live nowhere near \\nthe ocean can’t live without it. Oceans absorb about 30 percent of the \\ncarbon dioxide that humans produce; but we’re producing more carbon \\ndioxide than ever before and that makes the oceans more acidic—26% \\nmore, since the start of the industrial revolution. Our trash doesn’t help \\neither—13,000 pieces of plastic litter on every square kilometer of ocean. \\nSounds bad, right? Don’t despair! The Sustainable Development Goals \\nindicate targets for managing and protecting life below water.PROTECT, RESTORE AND PROMOTE \\nSUSTAINABLE USE OF TERRESTRIAL \\nECOSYSTEMS, SUSTAINABLY MANAGE \\nFORESTS, COMBAT DESERTIFICATION, AND \\nHAL T AND REVERSE LAND DEGRADATION \\nAND HAL T BIODIVERSITY LOSS \\nHumans and other animals rely on other forms of life on land for food, \\nclean air, clean water, and as a means of combatting climate change. \\nPlant life makes up 80% of the human diet. Forests, which cover 30% \\nof the Earth’s surface, help keep the air and water clean and the Earth’s \\nclimate in balance. That’s not to mention they’re home to millions of \\nanimal species. But the land and life on it are in trouble. Arable land \\nis disappearing 30 to 35 times faster than it has historically. Deserts \\nare spreading. Animal breeds are going extinct. We can turn these \\ntrends around. Fortunately, the Sustainable Development Goals aim to \\nconserve and restore the use of terrestrial ecosystems such as forests, \\nwetlands, drylands and mountains by 2030.PROMOTE PEACEFUL AND INCLUSIVE \\nSOCIETIES FOR SUSTAINABLE \\nDEVELOPMENT, PROVIDE ACCESS TO \\nJUSTICE FOR ALL AND BUILD EFFECTIVE, \\nACCOUNTABLE AND INCLUSIVE \\nINSTITUTIONS AT ALL LEVELS \\nHow can a country develop—how can people eat and teach and learn \\nand work and raise families—without peace? And how can a country \\nhave peace without justice, without human rights, without government \\nbased on the rule of law? Some parts of the world enjoy relative peace \\nand justice, and may come to take it for granted. Other parts seem to \\nbe plagued by armed conflict, crime, torture and exploitation, all of \\nwhich hinders their development. The goal of peace and justice is one \\nfor all countries to strive towards. The Sustainable Development Goals \\naim to reduce all forms of violence and propose that governments \\nand communities find lasting solutions to conflict and insecurity. That \\nmeans strengthening the rule of law, reducing the flow of illicit arms, \\nand bringing developing countries more into the center of institutions \\nof global governance.STRENGTHEN THE MEANS OF \\nIMPLEMENTATION AND REVITALIZE THE \\nGLOBAL PARTNERSHIP FOR SUSTAINABLE \\nDEVELOPMENT \\nThe Sustainable Development Goals are pretty big to-do list, don’t you \\nthink? In fact, it’s so big, you may just want to throw your hands up in the \\nair. “Forget it! Can’t be done! Why even try!” But we’ve got a lot going for \\nus. The world is more interconnected today than ever before, thanks to \\nthe internet, travel and global institutions. There’s a growing consensus \\nabout the need to work together to stop climate change. And the \\nSustainable Development Goals are no small matter either. 193 countries \\nagreed on these goals. Pretty incredible, isn’t it? 193 countries agreeing \\non anything? The final goal lays out a way for nations to work together to \\nachieve all the other Goals.Go shopping  Make a donation  \\nStart a fundraiser  \\nSpread the word  Visit shop.undp.org for SDG merchandise, and show off the goals you’re \\nmost passionate about. Money doesn’t just make the world go around; it’s also the most direct \\nway to reduce and eradicate all forms of poverty.\\nFundraising is a great way to raise money, create awareness, and inspire \\nothers. Plus, it’s fun!\\nSearch for @UNDP on Twitter, Facebook and Instagram, and share the \\ncontent you love.\\nTo donate or learn more about fundraising, visit undp.org/takeactionThere are many ways to show your support and help us reach \\nthe Sustainable Development Goals by 2030. Here are a few :WHA T CAN  \\nI DO TO HELP?NOTESNOTES')]"
      ]
     },
     "execution_count": 18,
     "metadata": {},
     "output_type": "execute_result"
    }
   ],
   "source": [
    "document_ques_gen"
   ]
  },
  {
   "cell_type": "code",
   "execution_count": null,
   "id": "712d40ad",
   "metadata": {},
   "outputs": [
    {
     "data": {
      "text/plain": [
       "langchain_core.documents.base.Document"
      ]
     },
     "execution_count": 19,
     "metadata": {},
     "output_type": "execute_result"
    }
   ],
   "source": [
    "type(document_ques_gen[0])"
   ]
  },
  {
   "cell_type": "code",
   "execution_count": null,
   "id": "37138903",
   "metadata": {},
   "outputs": [],
   "source": [
    "splitter_answer_gen = TokenTextSplitter(\n",
    "    model_name = \"gpt-3.5-turbo\",\n",
    "    chunk_size =1000,\n",
    "    chunk_overlap = 100\n",
    ")"
   ]
  },
  {
   "cell_type": "code",
   "execution_count": null,
   "id": "582c290b",
   "metadata": {},
   "outputs": [],
   "source": [
    "document_answer_gen = splitter_answer_gen.split_documents(\n",
    "    document_ques_gen\n",
    ")"
   ]
  },
  {
   "cell_type": "code",
   "execution_count": null,
   "id": "ef8378e9",
   "metadata": {},
   "outputs": [
    {
     "data": {
      "text/plain": [
       "[Document(metadata={}, page_content='IN THE YEAR 2015, LEADERS FROM 193 COUNTRIES OF THE WORLD \\nCAME TOGETHER TO FACE THE FUTURE.\\nAnd what they saw was daunting. Famines. Drought. Wars. Plagues. Poverty. \\nNot just in some faraway place, but in their own cities and towns and villages.\\nThey knew things didn’t have to be this way. They knew we had enough  \\nfood to feed the world, but that it wasn’t getting shared. They knew there \\nwere medicines for HIV and other diseases, but they cost a lot. They knew  \\nthat earthquakes and floods were inevitable, but that the high death  \\ntolls were not. \\nThey also knew that billions of people worldwide shared their hope for a \\nbetter future.\\nSo leaders from these countries created a plan called the Sustainable \\nDevelopment Goals (SDGs). This set of 17 goals imagines a future just 15 years \\noff that would be rid of poverty and hunger, and safe from the worst effects of \\nclimate change. It’s an ambitious plan. \\nBut there’s ample evidence that we can succeed. In the past 15 years, the \\ninternational community cut extreme poverty in half. \\nNow we can finish the job.\\nThe United Nations Development Programme (UNDP) is one of the leading \\norganizations working to fulfil the SDGs by the year 2030. Present in nearly \\n170 countries and territories, we help nations make the Goals a reality.  \\nWe also champion the Goals so that people everywhere know how to  \\ndo their part. \\nUNDP is proud to continue as a leader in this global movement.\\nLearn about the Sustainable Development Goals.  What’s your Goal?END EXTREME POVERTY IN ALL FORMS  \\nBY 2030.\\nYes, it’s an ambitious goal—but we believe it can be done. In 2000, the \\nworld committed to halving the number of people living in extreme \\npoverty by the year 2015 and we met this goal. However, more than \\n800 million people around the world still live on less than $1.25 a day—\\nthat’s about the equivalent of the entire population of Europe living in \\nextreme poverty. Now it’s time to build on what we learned and end \\npoverty altogether.END HUNGER, ACHIEVE FOOD SECURITY \\nAND IMPROVED NUTRITION AND PROMOTE \\nSUSTAINABLE AGRICUL TURE\\nIn the past 20 years, hunger has dropped by almost half. Many \\ncountries that used to suffer from famine and hunger can now \\nmeet the nutritional needs of their most vulnerable people. It’s an \\nincredible accomplishment. Now we can go further and end hunger \\nand malnutrition once and for all. That means doing things such as \\npromoting sustainable agriculture and supporting small farmers. It’s a tall \\norder. But for the sake of the nearly 1 out of every 9 people on earth who \\ngo to bed hungry every night, we’ve got to try. Imagine a world where \\neveryone has access to sufficient and nutritious food all year round. \\nTogether, we can make that a reality by 2030.ENSURE HEAL THY LIVES AND PROMOTE \\nWELL-BEING FOR ALL AT ALL AGES\\nWe all know how important it is to be in good health. Our health affects \\neverything from how much we enjoy life to what work we can perform. \\nThat’s why there’s a Goal to make sure everyone has health coverage \\nand access to safe and effective medicines and vaccines. In the 25 \\nyears before the SDGs, we made big strides—preventable child deaths \\ndropped by more than half, and maternal mortality went down by \\nalmost as much. And yet some other numbers remain tragically high, like \\nthe fact that 6 million children die every year before their fifth birthday, \\nor that AIDS is the leading cause of death for adolescents in sub-Saharan \\nAfrica. We have the means to turn that around and make good health \\nmore than just a wish.ENSURE INCLUSIVE AND EQUITABLE QUALITY \\nEDUCATION AND PROMOTE LIFELONG \\nLEARNING OPPORTUNITIES FOR ALL  \\nFirst, the bad news on education. Poverty, armed conflict and other \\nemergencies keep many, many kids around the world out of school. In \\nfact, kids from the poorest households are four times more likely to be \\nout of school than those of the richest households. Now for some good \\nnews. Since 2000, there has been enormous progress on the goal to \\nprovide primary education to all children worldwide: the total enrolment \\nrate in developing regions has reached 91%. By measures in any school, \\nthat’s a good grade. Now, let’s get an even better grade for all kids, \\nand achieve'),\n",
       " Document(metadata={}, page_content=' In \\nfact, kids from the poorest households are four times more likely to be \\nout of school than those of the richest households. Now for some good \\nnews. Since 2000, there has been enormous progress on the goal to \\nprovide primary education to all children worldwide: the total enrolment \\nrate in developing regions has reached 91%. By measures in any school, \\nthat’s a good grade. Now, let’s get an even better grade for all kids, \\nand achieve the goal of universal primary and secondary education, \\naffordable vocational training, access to higher education and more.We can celebrate the great progress the world has made in becoming \\nmore prosperous and fair. But there’s a shadow to the celebration. In \\njust about every way, women and girls lag behind. There are still gross \\ninequalities in work and wages, lots of unpaid “women’s work” such as \\nchild care and domestic work, and discrimination in public decision-\\nmaking. But there are grounds for hope. More girls are in school now \\ncompared to in 2000. Most regions have reached gender parity in \\nprimary education. The percentage of women getting paid for their work \\nis on the rise. The Sustainable Development Goals aim to build on these \\nachievements to ensure that there is an end to discrimination against \\nwomen and girls everywhere.ACHIEVE GENDER EQUALITY AND  \\nEMPOWER ALL WOMEN AND GIRLSEveryone on earth should have access to safe and affordable drinking \\nwater. That’s the goal for 2030. While many people take clean drinking \\nwater and sanitation for granted, many others don’t. Water scarcity \\naffects more than 40 percent of people around the world, and that \\nnumber is projected to go even higher as a result of climate change. \\nIf we continue the path we’re on, by 2050 at least one in four people \\nare likely to be affected by recurring water shortages. But we can take \\na new path—more international cooperation, protecting wetlands \\nand rivers, sharing water-treatment technologies—that leads to \\naccomplishing this Goal. ENSURE AVAILABILITY AND SUSTAINABLE \\nMANAGEMENT OF WATER AND SANITATION \\nFOR ALLENSURE ACCESS TO AFFORDABLE, RELIABLE, \\nSUSTAINABLE AND MODERN ENERGY FOR \\nALL \\nBetween 1990 and 2010, the number of people with access to electricity \\nincreased by 1.7 billion. That’s progress to be proud of. And yet as the \\nworld’s population continues to rise, still more people will need cheap \\nenergy to light their homes and streets, use phones and computers, \\nand do their everyday business. How we get that energy is at issue; fossil \\nfuels and greenhouse gas emissions are making drastic changes in the \\nclimate, leading to big problems on every continent. Instead, we can \\nbecome more energy-efficient and invest in clean energy sources such \\nas solar and wind. That way we’ll meet electricity needs and protect the \\nenvironment. How’s that for a balancing act?PROMOTE SUSTAINED, INCLUSIVE AND \\nSUSTAINABLE ECONOMIC GROWTH, FULL \\nAND PRODUCTIVE EMPLOYMENT AND \\nDECENT WORK FOR ALL \\nAn important part of economic growth is that people have jobs that \\npay enough to support themselves and their families. The good news \\nis that the middle class is growing worldwide—almost tripling in size \\nin developing countries in the last 25 years, to more than a third of the \\npopulation. But today, job growth is not keeping pace with the growing \\nlabour force. Things don’t have to be that way. We can promote policies \\nthat encourage entrepreneurship and job creation. We can eradicate \\nforced labour, slavery and human trafficking. And in the end we can \\nachieve the goal of decent work for all women and men by 2030.BUILD RESILIENT INFRASTRUCTURE, \\nPROMOTE INCLUSIVE AND SUSTAINABLE \\nINDUSTRIALIZATION AND FOSTER \\nINNOVATION \\nTechnological progress helps us address big global challenges such as \\ncreating jobs and becoming more energy efficient. For example, the \\nworld is becoming ever more interconnected and prosperous thanks to \\nthe internet. The more connected we are, the more we can all benefit \\nfrom the wisdom and contributions of people everywhere on earth.  And \\nyet four billion people have no way of getting online, the vast majority \\nof them in developing countries. The more we invest in innovation \\nand infrastructure, the better off we’ll all be. Bridging the digital divide, \\npromoting sustainable industries, and investing in scientific research and \\ninnovation are all important ways to facilitate sustainable development.REDUCE INEQUALITY WITHIN AND AMONG \\nCOUNTRIES  \\nIt’s an old story: the rich'),\n",
       " Document(metadata={}, page_content=' of people everywhere on earth.  And \\nyet four billion people have no way of getting online, the vast majority \\nof them in developing countries. The more we invest in innovation \\nand infrastructure, the better off we’ll all be. Bridging the digital divide, \\npromoting sustainable industries, and investing in scientific research and \\ninnovation are all important ways to facilitate sustainable development.REDUCE INEQUALITY WITHIN AND AMONG \\nCOUNTRIES  \\nIt’s an old story: the rich get richer, and the poor get poorer. The divide \\nhas never been starker. We can and must adopt policies that create \\nopportunity for everyone, regardless of who they are or where they \\ncome from. Income inequality is a global problem that requires global \\nsolutions. That means improving the regulation of financial markets \\nand institutions, sending development aid where it is most needed \\nand helping people migrate safely so they can pursue opportunities. \\nTogether, we can now change the direction of the old story of inequality.MAKE CITIES AND HUMAN SETTLEMENTS \\nINCLUSIVE, SAFE, RESILIENT AND \\nSUSTAINABLE \\nIf you’re like most people, you live in a city. More than half the world’s \\npopulation now lives in cities, and that figure will go to about two-thirds \\nof humanity by the year 2050. Cities are getting bigger. In 1990 there \\nwere ten “mega-cities” with 10 million inhabitants or more. In 2014, there \\nwere 28 mega-cities, home to 453 million people. Incredible, huh? A lot \\nof people love cities; they’re centers of culture and business and life. The \\nthing is, they’re also often centers of extreme poverty. To make cities \\nsustainable for all, we can create good, affordable public housing. We \\ncan upgrade slum settlements. We can invest in public transport, create \\ngreen spaces, and get a broader range of people involved in urban \\nplanning decisions. That way, we can keep the things we love about \\ncities, and change the things we don’t.ENSURE SUSTAINABLE CONSUMPTION AND \\nPRODUCTION PATTERNS\\nSome people use a lot of stuff, and some people use very little—in fact, \\na big share of the world population is consuming too little to meet even \\ntheir basic needs. Instead, we can have a world where everybody gets \\nwhat they need to survive and thrive. And we can consume in a way \\nthat preserves our natural resources so that our children can enjoy them, \\nand their children and their children after that. The hard part is how to \\nachieve that goal. We can manage our natural resources more efficiently \\nand dispose of toxic waste better. Cut per capita food waste in half \\nglobally. Get businesses and consumers to reduce and recycle waste. \\nAnd help countries that have typically not consumed a lot to move \\ntowards more responsible consumption patterns.TAKE URGENT ACTION TO COMBAT CLIMATE \\nCHANGE AND ITS IMPACTS\\nEvery country in the world is seeing the drastic effects of climate \\nchange, some more than others. On average, the annual losses just \\nfrom earthquakes, tsunamis, tropical cyclones and flooding count in the \\nhundreds of billions of dollars. We can reduce the loss of life and property \\nby helping more vulnerable regions—such as land-locked countries \\nand island states—become more resilient. It is still possible, with the \\npolitical will and technological measures, to limit the increase in global \\nmean temperature to two degrees Celsius above pre-industrial levels—\\nand thus avoid the worst effects of climate change. The Sustainable \\nDevelopment Goals lay out a way for countries to work together to meet \\nthis urgent challenge.CONSERVE AND SUSTAINABLY USE THE \\nOCEANS, SEAS AND MARINE RESOURCES \\nFOR SUSTAINABLE DEVELOPMENT\\nThe oceans make human life possible. Their temperature, their chemistry, \\ntheir currents, their life forms. For one thing, more than 3 billion people \\ndepend on marine and coastal diversity for their livelihoods. But today \\nwe are seeing nearly a third of the world’s fish stocks overexploited. \\nThat’s not a sustainable way of life. Even people who live nowhere near \\nthe ocean can’t live without it. Oceans absorb about 30 percent of the \\ncarbon dioxide that humans produce; but we’re producing more carbon \\ndioxide than ever before and that makes the oceans more acidic—26% \\nmore, since the start of the industrial revolution. Our trash doesn’t help \\neither—13,000 pieces of plastic litter on every square kilometer of ocean. \\nSounds bad, right? Don’t despair! The Sustainable Development Goals \\nindicate targets for managing and protecting life below water.PROTECT, RESTORE AND PROMOTE \\nS'),\n",
       " Document(metadata={}, page_content=' of the \\ncarbon dioxide that humans produce; but we’re producing more carbon \\ndioxide than ever before and that makes the oceans more acidic—26% \\nmore, since the start of the industrial revolution. Our trash doesn’t help \\neither—13,000 pieces of plastic litter on every square kilometer of ocean. \\nSounds bad, right? Don’t despair! The Sustainable Development Goals \\nindicate targets for managing and protecting life below water.PROTECT, RESTORE AND PROMOTE \\nSUSTAINABLE USE OF TERRESTRIAL \\nECOSYSTEMS, SUSTAINABLY MANAGE \\nFORESTS, COMBAT DESERTIFICATION, AND \\nHAL T AND REVERSE LAND DEGRADATION \\nAND HAL T BIODIVERSITY LOSS \\nHumans and other animals rely on other forms of life on land for food, \\nclean air, clean water, and as a means of combatting climate change. \\nPlant life makes up 80% of the human diet. Forests, which cover 30% \\nof the Earth’s surface, help keep the air and water clean and the Earth’s \\nclimate in balance. That’s not to mention they’re home to millions of \\nanimal species. But the land and life on it are in trouble. Arable land \\nis disappearing 30 to 35 times faster than it has historically. Deserts \\nare spreading. Animal breeds are going extinct. We can turn these \\ntrends around. Fortunately, the Sustainable Development Goals aim to \\nconserve and restore the use of terrestrial ecosystems such as forests, \\nwetlands, drylands and mountains by 2030.PROMOTE PEACEFUL AND INCLUSIVE \\nSOCIETIES FOR SUSTAINABLE \\nDEVELOPMENT, PROVIDE ACCESS TO \\nJUSTICE FOR ALL AND BUILD EFFECTIVE, \\nACCOUNTABLE AND INCLUSIVE \\nINSTITUTIONS AT ALL LEVELS \\nHow can a country develop—how can people eat and teach and learn \\nand work and raise families—without peace? And how can a country \\nhave peace without justice, without human rights, without government \\nbased on the rule of law? Some parts of the world enjoy relative peace \\nand justice, and may come to take it for granted. Other parts seem to \\nbe plagued by armed conflict, crime, torture and exploitation, all of \\nwhich hinders their development. The goal of peace and justice is one \\nfor all countries to strive towards. The Sustainable Development Goals \\naim to reduce all forms of violence and propose that governments \\nand communities find lasting solutions to conflict and insecurity. That \\nmeans strengthening the rule of law, reducing the flow of illicit arms, \\nand bringing developing countries more into the center of institutions \\nof global governance.STRENGTHEN THE MEANS OF \\nIMPLEMENTATION AND REVITALIZE THE \\nGLOBAL PARTNERSHIP FOR SUSTAINABLE \\nDEVELOPMENT \\nThe Sustainable Development Goals are pretty big to-do list, don’t you \\nthink? In fact, it’s so big, you may just want to throw your hands up in the \\nair. “Forget it! Can’t be done! Why even try!” But we’ve got a lot going for \\nus. The world is more interconnected today than ever before, thanks to \\nthe internet, travel and global institutions. There’s a growing consensus \\nabout the need to work together to stop climate change. And the \\nSustainable Development Goals are no small matter either. 193 countries \\nagreed on these goals. Pretty incredible, isn’t it? 193 countries agreeing \\non anything? The final goal lays out a way for nations to work together to \\nachieve all the other Goals.Go shopping  Make a donation  \\nStart a fundraiser  \\nSpread the word  Visit shop.undp.org for SDG merchandise, and show off the goals you’re \\nmost passionate about. Money doesn’t just make the world go around; it’s also the most direct \\nway to reduce and eradicate all forms of poverty.\\nFundraising is a great way to raise money, create awareness, and inspire \\nothers. Plus, it’s fun!\\nSearch for @UNDP on Twitter, Facebook and Instagram, and share the \\ncontent you love.\\nTo donate or learn more about fundraising, visit undp.org/takeactionThere are many ways to show your support and help us reach \\nthe Sustainable Development Goals by 2030. Here are a few :WHA T CAN  \\nI DO TO HELP?NOTESNOTES')]"
      ]
     },
     "execution_count": 24,
     "metadata": {},
     "output_type": "execute_result"
    }
   ],
   "source": [
    "document_answer_gen"
   ]
  },
  {
   "cell_type": "code",
   "execution_count": null,
   "id": "72dbfc14",
   "metadata": {},
   "outputs": [
    {
     "name": "stderr",
     "output_type": "stream",
     "text": [
      "C:\\Users\\Mrityunjay\\AppData\\Local\\Temp\\ipykernel_1752\\1024129062.py:3: LangChainDeprecationWarning: The class `ChatOpenAI` was deprecated in LangChain 0.0.10 and will be removed in 1.0. An updated version of the class exists in the :class:`~langchain-openai package and should be used instead. To use it run `pip install -U :class:`~langchain-openai` and import as `from :class:`~langchain_openai import ChatOpenAI``.\n",
      "  llm_questions_gen_pipline = ChatOpenAI(\n"
     ]
    },
    {
     "ename": "ValidationError",
     "evalue": "1 validation error for ChatOpenAI\n  Value error, Did not find openai_api_key, please add an environment variable `OPENAI_API_KEY` which contains it, or pass `openai_api_key` as a named parameter. [type=value_error, input_value={'temperature': 0.3, 'mod...ne, 'http_client': None}, input_type=dict]\n    For further information visit https://errors.pydantic.dev/2.10/v/value_error",
     "output_type": "error",
     "traceback": [
      "\u001b[1;31m---------------------------------------------------------------------------\u001b[0m",
      "\u001b[1;31mValidationError\u001b[0m                           Traceback (most recent call last)",
      "Cell \u001b[1;32mIn[25], line 3\u001b[0m\n\u001b[0;32m      1\u001b[0m \u001b[38;5;28;01mfrom\u001b[39;00m\u001b[38;5;250m \u001b[39m\u001b[38;5;21;01mlangchain\u001b[39;00m\u001b[38;5;21;01m.\u001b[39;00m\u001b[38;5;21;01mchat_models\u001b[39;00m\u001b[38;5;250m \u001b[39m\u001b[38;5;28;01mimport\u001b[39;00m ChatOpenAI\n\u001b[1;32m----> 3\u001b[0m llm_questions_gen_pipline \u001b[38;5;241m=\u001b[39m \u001b[43mChatOpenAI\u001b[49m\u001b[43m(\u001b[49m\n\u001b[0;32m      4\u001b[0m \u001b[43m    \u001b[49m\u001b[43mmodel\u001b[49m\u001b[43m \u001b[49m\u001b[38;5;241;43m=\u001b[39;49m\u001b[43m \u001b[49m\u001b[38;5;124;43m\"\u001b[39;49m\u001b[38;5;124;43mgpt-3.5-turbo\u001b[39;49m\u001b[38;5;124;43m\"\u001b[39;49m\u001b[43m,\u001b[49m\n\u001b[0;32m      5\u001b[0m \u001b[43m    \u001b[49m\u001b[43mtemperature\u001b[49m\u001b[43m \u001b[49m\u001b[38;5;241;43m=\u001b[39;49m\u001b[43m \u001b[49m\u001b[38;5;241;43m0.3\u001b[39;49m\n\u001b[0;32m      6\u001b[0m \u001b[43m)\u001b[49m\n",
      "File \u001b[1;32m~\\AppData\\Roaming\\Python\\Python310\\site-packages\\langchain_core\\_api\\deprecation.py:221\u001b[0m, in \u001b[0;36mdeprecated.<locals>.deprecate.<locals>.finalize.<locals>.warn_if_direct_instance\u001b[1;34m(self, *args, **kwargs)\u001b[0m\n\u001b[0;32m    219\u001b[0m     warned \u001b[38;5;241m=\u001b[39m \u001b[38;5;28;01mTrue\u001b[39;00m\n\u001b[0;32m    220\u001b[0m     emit_warning()\n\u001b[1;32m--> 221\u001b[0m \u001b[38;5;28;01mreturn\u001b[39;00m wrapped(\u001b[38;5;28mself\u001b[39m, \u001b[38;5;241m*\u001b[39margs, \u001b[38;5;241m*\u001b[39m\u001b[38;5;241m*\u001b[39mkwargs)\n",
      "File \u001b[1;32m~\\AppData\\Roaming\\Python\\Python310\\site-packages\\langchain_core\\load\\serializable.py:130\u001b[0m, in \u001b[0;36mSerializable.__init__\u001b[1;34m(self, *args, **kwargs)\u001b[0m\n\u001b[0;32m    128\u001b[0m \u001b[38;5;28;01mdef\u001b[39;00m\u001b[38;5;250m \u001b[39m\u001b[38;5;21m__init__\u001b[39m(\u001b[38;5;28mself\u001b[39m, \u001b[38;5;241m*\u001b[39margs: Any, \u001b[38;5;241m*\u001b[39m\u001b[38;5;241m*\u001b[39mkwargs: Any) \u001b[38;5;241m-\u001b[39m\u001b[38;5;241m>\u001b[39m \u001b[38;5;28;01mNone\u001b[39;00m:\n\u001b[0;32m    129\u001b[0m \u001b[38;5;250m    \u001b[39m\u001b[38;5;124;03m\"\"\"\"\"\"\u001b[39;00m  \u001b[38;5;66;03m# noqa: D419\u001b[39;00m\n\u001b[1;32m--> 130\u001b[0m     \u001b[38;5;28msuper\u001b[39m()\u001b[38;5;241m.\u001b[39m\u001b[38;5;21m__init__\u001b[39m(\u001b[38;5;241m*\u001b[39margs, \u001b[38;5;241m*\u001b[39m\u001b[38;5;241m*\u001b[39mkwargs)\n",
      "File \u001b[1;32m~\\AppData\\Roaming\\Python\\Python310\\site-packages\\pydantic\\main.py:214\u001b[0m, in \u001b[0;36mBaseModel.__init__\u001b[1;34m(self, **data)\u001b[0m\n\u001b[0;32m    212\u001b[0m \u001b[38;5;66;03m# `__tracebackhide__` tells pytest and some other tools to omit this function from tracebacks\u001b[39;00m\n\u001b[0;32m    213\u001b[0m __tracebackhide__ \u001b[38;5;241m=\u001b[39m \u001b[38;5;28;01mTrue\u001b[39;00m\n\u001b[1;32m--> 214\u001b[0m validated_self \u001b[38;5;241m=\u001b[39m \u001b[38;5;28;43mself\u001b[39;49m\u001b[38;5;241;43m.\u001b[39;49m\u001b[43m__pydantic_validator__\u001b[49m\u001b[38;5;241;43m.\u001b[39;49m\u001b[43mvalidate_python\u001b[49m\u001b[43m(\u001b[49m\u001b[43mdata\u001b[49m\u001b[43m,\u001b[49m\u001b[43m \u001b[49m\u001b[43mself_instance\u001b[49m\u001b[38;5;241;43m=\u001b[39;49m\u001b[38;5;28;43mself\u001b[39;49m\u001b[43m)\u001b[49m\n\u001b[0;32m    215\u001b[0m \u001b[38;5;28;01mif\u001b[39;00m \u001b[38;5;28mself\u001b[39m \u001b[38;5;129;01mis\u001b[39;00m \u001b[38;5;129;01mnot\u001b[39;00m validated_self:\n\u001b[0;32m    216\u001b[0m     warnings\u001b[38;5;241m.\u001b[39mwarn(\n\u001b[0;32m    217\u001b[0m         \u001b[38;5;124m'\u001b[39m\u001b[38;5;124mA custom validator is returning a value other than `self`.\u001b[39m\u001b[38;5;130;01m\\n\u001b[39;00m\u001b[38;5;124m'\u001b[39m\n\u001b[0;32m    218\u001b[0m         \u001b[38;5;124m\"\u001b[39m\u001b[38;5;124mReturning anything other than `self` from a top level model validator isn\u001b[39m\u001b[38;5;124m'\u001b[39m\u001b[38;5;124mt supported when validating via `__init__`.\u001b[39m\u001b[38;5;130;01m\\n\u001b[39;00m\u001b[38;5;124m\"\u001b[39m\n\u001b[0;32m    219\u001b[0m         \u001b[38;5;124m'\u001b[39m\u001b[38;5;124mSee the `model_validator` docs (https://docs.pydantic.dev/latest/concepts/validators/#model-validators) for more details.\u001b[39m\u001b[38;5;124m'\u001b[39m,\n\u001b[0;32m    220\u001b[0m         stacklevel\u001b[38;5;241m=\u001b[39m\u001b[38;5;241m2\u001b[39m,\n\u001b[0;32m    221\u001b[0m     )\n",
      "\u001b[1;31mValidationError\u001b[0m: 1 validation error for ChatOpenAI\n  Value error, Did not find openai_api_key, please add an environment variable `OPENAI_API_KEY` which contains it, or pass `openai_api_key` as a named parameter. [type=value_error, input_value={'temperature': 0.3, 'mod...ne, 'http_client': None}, input_type=dict]\n    For further information visit https://errors.pydantic.dev/2.10/v/value_error"
     ]
    }
   ],
   "source": [
    "from langchain.chat_models import ChatOpenAI\n",
    "\n",
    "llm_questions_gen_pipline = ChatOpenAI(\n",
    "    model = \"gpt-3.5-turbo\",\n",
    "    temperature = 0.3\n",
    ")"
   ]
  },
  {
   "cell_type": "code",
   "execution_count": null,
   "id": "883da2d5",
   "metadata": {},
   "outputs": [],
   "source": [
    "prompt_template = \"\"\"\n",
    "you are the expert at creating questions based on coding matrials and documentation.\n",
    "your goal is to prepare a coder or programmer for exam and coding tests.\n",
    "yoo do this by asking questions about the text below:\n",
    "\n",
    "-------\n",
    "{text}\n",
    "-------\n",
    "\n",
    "creating questions that will prepare the coders or programmers for the their tests.\n",
    "Make sure not to loss any important infromation.\n",
    "\n",
    "Questions:\n",
    "\"\"\""
   ]
  },
  {
   "cell_type": "code",
   "execution_count": null,
   "id": "ff85d875",
   "metadata": {},
   "outputs": [],
   "source": [
    "from langchain.prompts import PromptTemplate\n",
    "\n",
    "PROMPT_QUESTIONS = PromptTemplate(template=prompt_template, input_variables=[\"text\"])"
   ]
  },
  {
   "cell_type": "code",
   "execution_count": null,
   "id": "b2d1d6e5",
   "metadata": {},
   "outputs": [],
   "source": [
    "refine_template = \"\"\"\n",
    "you are an expert at creating practice questions based on coding matrials and documents.\n",
    "you goal is to help a coder or programmer prepare for a coding test.\n",
    "we have received some practice questions to a certain extent: {existing_answer}.\n",
    "we have options to refine the existing questionas or add new ones.\n",
    "(only if necessary) with some more context below.\n",
    "-------\n",
    "{text}\n",
    "-------\n",
    "\n",
    "Give the new context, refine the original questiona in English.\n",
    "if the context is not helpful, please provide the original questions.\n",
    "QUESTIONS:\n",
    "\"\"\""
   ]
  },
  {
   "cell_type": "code",
   "execution_count": null,
   "id": "fe811595",
   "metadata": {},
   "outputs": [],
   "source": [
    "REFINE_PROMPT_QUESTIONS = PromptTemplate(\n",
    "    input_variables=[\"existing_answer\",\"text\"],\n",
    "    template=refine_template\n",
    ")"
   ]
  },
  {
   "cell_type": "code",
   "execution_count": null,
   "id": "41d5a97e",
   "metadata": {},
   "outputs": [
    {
     "ename": "NameError",
     "evalue": "name 'llm_questions_gen_pipline' is not defined",
     "output_type": "error",
     "traceback": [
      "\u001b[1;31m---------------------------------------------------------------------------\u001b[0m",
      "\u001b[1;31mNameError\u001b[0m                                 Traceback (most recent call last)",
      "Cell \u001b[1;32mIn[30], line 3\u001b[0m\n\u001b[0;32m      1\u001b[0m \u001b[38;5;28;01mfrom\u001b[39;00m\u001b[38;5;250m \u001b[39m\u001b[38;5;21;01mlangchain\u001b[39;00m\u001b[38;5;21;01m.\u001b[39;00m\u001b[38;5;21;01mchains\u001b[39;00m\u001b[38;5;21;01m.\u001b[39;00m\u001b[38;5;21;01msummarize\u001b[39;00m\u001b[38;5;250m \u001b[39m\u001b[38;5;28;01mimport\u001b[39;00m load_summarize_chain\n\u001b[1;32m----> 3\u001b[0m que_gen_chain \u001b[38;5;241m=\u001b[39m load_summarize_chain(llm \u001b[38;5;241m=\u001b[39m \u001b[43mllm_questions_gen_pipline\u001b[49m,\n\u001b[0;32m      4\u001b[0m                                      chain_type \u001b[38;5;241m=\u001b[39m \u001b[38;5;124m\"\u001b[39m\u001b[38;5;124mrefine\u001b[39m\u001b[38;5;124m\"\u001b[39m,\n\u001b[0;32m      5\u001b[0m                                      verbose \u001b[38;5;241m=\u001b[39m \u001b[38;5;28;01mTrue\u001b[39;00m,\n\u001b[0;32m      6\u001b[0m                                      question_prompt \u001b[38;5;241m=\u001b[39m PROMPT_QUESTIONS,\n\u001b[0;32m      7\u001b[0m                                      refine_prompt \u001b[38;5;241m=\u001b[39m REFINE_PROMPT_QUESTIONS\n\u001b[0;32m      8\u001b[0m                                      )\n",
      "\u001b[1;31mNameError\u001b[0m: name 'llm_questions_gen_pipline' is not defined"
     ]
    }
   ],
   "source": [
    "from langchain.chains.summarize import load_summarize_chain\n",
    "\n",
    "que_gen_chain = load_summarize_chain(llm = llm_questions_gen_pipline,\n",
    "                                     chain_type = \"refine\",\n",
    "                                     verbose = True,\n",
    "                                     question_prompt = PROMPT_QUESTIONS,\n",
    "                                     refine_prompt = REFINE_PROMPT_QUESTIONS\n",
    "                                     )"
   ]
  },
  {
   "cell_type": "code",
   "execution_count": null,
   "id": "1de70aa7",
   "metadata": {},
   "outputs": [
    {
     "ename": "NameError",
     "evalue": "name 'que_gen_chain' is not defined",
     "output_type": "error",
     "traceback": [
      "\u001b[1;31m---------------------------------------------------------------------------\u001b[0m",
      "\u001b[1;31mNameError\u001b[0m                                 Traceback (most recent call last)",
      "Cell \u001b[1;32mIn[31], line 1\u001b[0m\n\u001b[1;32m----> 1\u001b[0m questions \u001b[38;5;241m=\u001b[39m \u001b[43mque_gen_chain\u001b[49m\u001b[38;5;241m.\u001b[39mrun(document_ques_gen)\n\u001b[0;32m      3\u001b[0m \u001b[38;5;28mprint\u001b[39m(questions)\n",
      "\u001b[1;31mNameError\u001b[0m: name 'que_gen_chain' is not defined"
     ]
    }
   ],
   "source": [
    "questions = que_gen_chain.run(document_ques_gen)\n",
    "\n",
    "print(questions)"
   ]
  },
  {
   "cell_type": "code",
   "execution_count": null,
   "id": "75db3901",
   "metadata": {},
   "outputs": [],
   "source": [
    "from langchain.embeddings.openai import OpenAIEmbeddings"
   ]
  },
  {
   "cell_type": "code",
   "execution_count": null,
   "id": "7605a5a8",
   "metadata": {},
   "outputs": [
    {
     "name": "stderr",
     "output_type": "stream",
     "text": [
      "C:\\Users\\Mrityunjay\\AppData\\Local\\Temp\\ipykernel_1752\\2497576997.py:1: LangChainDeprecationWarning: The class `OpenAIEmbeddings` was deprecated in LangChain 0.0.9 and will be removed in 1.0. An updated version of the class exists in the :class:`~langchain-openai package and should be used instead. To use it run `pip install -U :class:`~langchain-openai` and import as `from :class:`~langchain_openai import OpenAIEmbeddings``.\n",
      "  embeddings = OpenAIEmbeddings()\n"
     ]
    },
    {
     "ename": "ValidationError",
     "evalue": "1 validation error for OpenAIEmbeddings\n  Value error, Did not find openai_api_key, please add an environment variable `OPENAI_API_KEY` which contains it, or pass `openai_api_key` as a named parameter. [type=value_error, input_value={'model_kwargs': {}, 'cli...20, 'http_client': None}, input_type=dict]\n    For further information visit https://errors.pydantic.dev/2.10/v/value_error",
     "output_type": "error",
     "traceback": [
      "\u001b[1;31m---------------------------------------------------------------------------\u001b[0m",
      "\u001b[1;31mValidationError\u001b[0m                           Traceback (most recent call last)",
      "Cell \u001b[1;32mIn[33], line 1\u001b[0m\n\u001b[1;32m----> 1\u001b[0m embeddings \u001b[38;5;241m=\u001b[39m \u001b[43mOpenAIEmbeddings\u001b[49m\u001b[43m(\u001b[49m\u001b[43m)\u001b[49m\n",
      "File \u001b[1;32m~\\AppData\\Roaming\\Python\\Python310\\site-packages\\langchain_core\\_api\\deprecation.py:221\u001b[0m, in \u001b[0;36mdeprecated.<locals>.deprecate.<locals>.finalize.<locals>.warn_if_direct_instance\u001b[1;34m(self, *args, **kwargs)\u001b[0m\n\u001b[0;32m    219\u001b[0m     warned \u001b[38;5;241m=\u001b[39m \u001b[38;5;28;01mTrue\u001b[39;00m\n\u001b[0;32m    220\u001b[0m     emit_warning()\n\u001b[1;32m--> 221\u001b[0m \u001b[38;5;28;01mreturn\u001b[39;00m wrapped(\u001b[38;5;28mself\u001b[39m, \u001b[38;5;241m*\u001b[39margs, \u001b[38;5;241m*\u001b[39m\u001b[38;5;241m*\u001b[39mkwargs)\n",
      "File \u001b[1;32m~\\AppData\\Roaming\\Python\\Python310\\site-packages\\pydantic\\main.py:214\u001b[0m, in \u001b[0;36mBaseModel.__init__\u001b[1;34m(self, **data)\u001b[0m\n\u001b[0;32m    212\u001b[0m \u001b[38;5;66;03m# `__tracebackhide__` tells pytest and some other tools to omit this function from tracebacks\u001b[39;00m\n\u001b[0;32m    213\u001b[0m __tracebackhide__ \u001b[38;5;241m=\u001b[39m \u001b[38;5;28;01mTrue\u001b[39;00m\n\u001b[1;32m--> 214\u001b[0m validated_self \u001b[38;5;241m=\u001b[39m \u001b[38;5;28;43mself\u001b[39;49m\u001b[38;5;241;43m.\u001b[39;49m\u001b[43m__pydantic_validator__\u001b[49m\u001b[38;5;241;43m.\u001b[39;49m\u001b[43mvalidate_python\u001b[49m\u001b[43m(\u001b[49m\u001b[43mdata\u001b[49m\u001b[43m,\u001b[49m\u001b[43m \u001b[49m\u001b[43mself_instance\u001b[49m\u001b[38;5;241;43m=\u001b[39;49m\u001b[38;5;28;43mself\u001b[39;49m\u001b[43m)\u001b[49m\n\u001b[0;32m    215\u001b[0m \u001b[38;5;28;01mif\u001b[39;00m \u001b[38;5;28mself\u001b[39m \u001b[38;5;129;01mis\u001b[39;00m \u001b[38;5;129;01mnot\u001b[39;00m validated_self:\n\u001b[0;32m    216\u001b[0m     warnings\u001b[38;5;241m.\u001b[39mwarn(\n\u001b[0;32m    217\u001b[0m         \u001b[38;5;124m'\u001b[39m\u001b[38;5;124mA custom validator is returning a value other than `self`.\u001b[39m\u001b[38;5;130;01m\\n\u001b[39;00m\u001b[38;5;124m'\u001b[39m\n\u001b[0;32m    218\u001b[0m         \u001b[38;5;124m\"\u001b[39m\u001b[38;5;124mReturning anything other than `self` from a top level model validator isn\u001b[39m\u001b[38;5;124m'\u001b[39m\u001b[38;5;124mt supported when validating via `__init__`.\u001b[39m\u001b[38;5;130;01m\\n\u001b[39;00m\u001b[38;5;124m\"\u001b[39m\n\u001b[0;32m    219\u001b[0m         \u001b[38;5;124m'\u001b[39m\u001b[38;5;124mSee the `model_validator` docs (https://docs.pydantic.dev/latest/concepts/validators/#model-validators) for more details.\u001b[39m\u001b[38;5;124m'\u001b[39m,\n\u001b[0;32m    220\u001b[0m         stacklevel\u001b[38;5;241m=\u001b[39m\u001b[38;5;241m2\u001b[39m,\n\u001b[0;32m    221\u001b[0m     )\n",
      "\u001b[1;31mValidationError\u001b[0m: 1 validation error for OpenAIEmbeddings\n  Value error, Did not find openai_api_key, please add an environment variable `OPENAI_API_KEY` which contains it, or pass `openai_api_key` as a named parameter. [type=value_error, input_value={'model_kwargs': {}, 'cli...20, 'http_client': None}, input_type=dict]\n    For further information visit https://errors.pydantic.dev/2.10/v/value_error"
     ]
    }
   ],
   "source": [
    "embeddings = OpenAIEmbeddings()"
   ]
  },
  {
   "cell_type": "code",
   "execution_count": null,
   "id": "b3fbb8e5",
   "metadata": {},
   "outputs": [],
   "source": [
    "from langchain.vectorstores import FAISS"
   ]
  },
  {
   "cell_type": "code",
   "execution_count": null,
   "id": "c6887db5",
   "metadata": {},
   "outputs": [],
   "source": [
    "vector_store = FAISS.from_documents(document_answer_gen, embeddings)"
   ]
  },
  {
   "cell_type": "code",
   "execution_count": null,
   "id": "75c524fa",
   "metadata": {},
   "outputs": [
    {
     "ename": "ValidationError",
     "evalue": "1 validation error for ChatOpenAI\n  Value error, Did not find openai_api_key, please add an environment variable `OPENAI_API_KEY` which contains it, or pass `openai_api_key` as a named parameter. [type=value_error, input_value={'temperature': 0.1, 'mod...ne, 'http_client': None}, input_type=dict]\n    For further information visit https://errors.pydantic.dev/2.10/v/value_error",
     "output_type": "error",
     "traceback": [
      "\u001b[1;31m---------------------------------------------------------------------------\u001b[0m",
      "\u001b[1;31mValidationError\u001b[0m                           Traceback (most recent call last)",
      "Cell \u001b[1;32mIn[35], line 1\u001b[0m\n\u001b[1;32m----> 1\u001b[0m llm_ans_genrater \u001b[38;5;241m=\u001b[39m \u001b[43mChatOpenAI\u001b[49m\u001b[43m(\u001b[49m\u001b[43mtemperature\u001b[49m\u001b[38;5;241;43m=\u001b[39;49m\u001b[38;5;241;43m0.1\u001b[39;49m\u001b[43m,\u001b[49m\u001b[43m \u001b[49m\u001b[43mmodel\u001b[49m\u001b[38;5;241;43m=\u001b[39;49m\u001b[38;5;124;43m\"\u001b[39;49m\u001b[38;5;124;43mgpt-3.5-turbo\u001b[39;49m\u001b[38;5;124;43m\"\u001b[39;49m\u001b[43m)\u001b[49m\n",
      "File \u001b[1;32m~\\AppData\\Roaming\\Python\\Python310\\site-packages\\langchain_core\\_api\\deprecation.py:221\u001b[0m, in \u001b[0;36mdeprecated.<locals>.deprecate.<locals>.finalize.<locals>.warn_if_direct_instance\u001b[1;34m(self, *args, **kwargs)\u001b[0m\n\u001b[0;32m    219\u001b[0m     warned \u001b[38;5;241m=\u001b[39m \u001b[38;5;28;01mTrue\u001b[39;00m\n\u001b[0;32m    220\u001b[0m     emit_warning()\n\u001b[1;32m--> 221\u001b[0m \u001b[38;5;28;01mreturn\u001b[39;00m wrapped(\u001b[38;5;28mself\u001b[39m, \u001b[38;5;241m*\u001b[39margs, \u001b[38;5;241m*\u001b[39m\u001b[38;5;241m*\u001b[39mkwargs)\n",
      "File \u001b[1;32m~\\AppData\\Roaming\\Python\\Python310\\site-packages\\langchain_core\\load\\serializable.py:130\u001b[0m, in \u001b[0;36mSerializable.__init__\u001b[1;34m(self, *args, **kwargs)\u001b[0m\n\u001b[0;32m    128\u001b[0m \u001b[38;5;28;01mdef\u001b[39;00m\u001b[38;5;250m \u001b[39m\u001b[38;5;21m__init__\u001b[39m(\u001b[38;5;28mself\u001b[39m, \u001b[38;5;241m*\u001b[39margs: Any, \u001b[38;5;241m*\u001b[39m\u001b[38;5;241m*\u001b[39mkwargs: Any) \u001b[38;5;241m-\u001b[39m\u001b[38;5;241m>\u001b[39m \u001b[38;5;28;01mNone\u001b[39;00m:\n\u001b[0;32m    129\u001b[0m \u001b[38;5;250m    \u001b[39m\u001b[38;5;124;03m\"\"\"\"\"\"\u001b[39;00m  \u001b[38;5;66;03m# noqa: D419\u001b[39;00m\n\u001b[1;32m--> 130\u001b[0m     \u001b[38;5;28msuper\u001b[39m()\u001b[38;5;241m.\u001b[39m\u001b[38;5;21m__init__\u001b[39m(\u001b[38;5;241m*\u001b[39margs, \u001b[38;5;241m*\u001b[39m\u001b[38;5;241m*\u001b[39mkwargs)\n",
      "File \u001b[1;32m~\\AppData\\Roaming\\Python\\Python310\\site-packages\\pydantic\\main.py:214\u001b[0m, in \u001b[0;36mBaseModel.__init__\u001b[1;34m(self, **data)\u001b[0m\n\u001b[0;32m    212\u001b[0m \u001b[38;5;66;03m# `__tracebackhide__` tells pytest and some other tools to omit this function from tracebacks\u001b[39;00m\n\u001b[0;32m    213\u001b[0m __tracebackhide__ \u001b[38;5;241m=\u001b[39m \u001b[38;5;28;01mTrue\u001b[39;00m\n\u001b[1;32m--> 214\u001b[0m validated_self \u001b[38;5;241m=\u001b[39m \u001b[38;5;28;43mself\u001b[39;49m\u001b[38;5;241;43m.\u001b[39;49m\u001b[43m__pydantic_validator__\u001b[49m\u001b[38;5;241;43m.\u001b[39;49m\u001b[43mvalidate_python\u001b[49m\u001b[43m(\u001b[49m\u001b[43mdata\u001b[49m\u001b[43m,\u001b[49m\u001b[43m \u001b[49m\u001b[43mself_instance\u001b[49m\u001b[38;5;241;43m=\u001b[39;49m\u001b[38;5;28;43mself\u001b[39;49m\u001b[43m)\u001b[49m\n\u001b[0;32m    215\u001b[0m \u001b[38;5;28;01mif\u001b[39;00m \u001b[38;5;28mself\u001b[39m \u001b[38;5;129;01mis\u001b[39;00m \u001b[38;5;129;01mnot\u001b[39;00m validated_self:\n\u001b[0;32m    216\u001b[0m     warnings\u001b[38;5;241m.\u001b[39mwarn(\n\u001b[0;32m    217\u001b[0m         \u001b[38;5;124m'\u001b[39m\u001b[38;5;124mA custom validator is returning a value other than `self`.\u001b[39m\u001b[38;5;130;01m\\n\u001b[39;00m\u001b[38;5;124m'\u001b[39m\n\u001b[0;32m    218\u001b[0m         \u001b[38;5;124m\"\u001b[39m\u001b[38;5;124mReturning anything other than `self` from a top level model validator isn\u001b[39m\u001b[38;5;124m'\u001b[39m\u001b[38;5;124mt supported when validating via `__init__`.\u001b[39m\u001b[38;5;130;01m\\n\u001b[39;00m\u001b[38;5;124m\"\u001b[39m\n\u001b[0;32m    219\u001b[0m         \u001b[38;5;124m'\u001b[39m\u001b[38;5;124mSee the `model_validator` docs (https://docs.pydantic.dev/latest/concepts/validators/#model-validators) for more details.\u001b[39m\u001b[38;5;124m'\u001b[39m,\n\u001b[0;32m    220\u001b[0m         stacklevel\u001b[38;5;241m=\u001b[39m\u001b[38;5;241m2\u001b[39m,\n\u001b[0;32m    221\u001b[0m     )\n",
      "\u001b[1;31mValidationError\u001b[0m: 1 validation error for ChatOpenAI\n  Value error, Did not find openai_api_key, please add an environment variable `OPENAI_API_KEY` which contains it, or pass `openai_api_key` as a named parameter. [type=value_error, input_value={'temperature': 0.1, 'mod...ne, 'http_client': None}, input_type=dict]\n    For further information visit https://errors.pydantic.dev/2.10/v/value_error"
     ]
    }
   ],
   "source": [
    "llm_ans_genrater = ChatOpenAI(temperature=0.1, model=\"gpt-3.5-turbo\")"
   ]
  },
  {
   "cell_type": "code",
   "execution_count": null,
   "id": "9513d8c5",
   "metadata": {},
   "outputs": [],
   "source": [
    "questions"
   ]
  },
  {
   "cell_type": "code",
   "execution_count": null,
   "id": "040a678a",
   "metadata": {},
   "outputs": [],
   "source": [
    "questions_list = questions.split(\"\\n\")"
   ]
  },
  {
   "cell_type": "code",
   "execution_count": null,
   "id": "b0b5f761",
   "metadata": {},
   "outputs": [],
   "source": [
    "from langchain.chains import RetrievalQA"
   ]
  },
  {
   "cell_type": "code",
   "execution_count": null,
   "id": "01fd7dfe",
   "metadata": {},
   "outputs": [
    {
     "ename": "NameError",
     "evalue": "name 'llm_ans_genrater' is not defined",
     "output_type": "error",
     "traceback": [
      "\u001b[1;31m---------------------------------------------------------------------------\u001b[0m",
      "\u001b[1;31mNameError\u001b[0m                                 Traceback (most recent call last)",
      "Cell \u001b[1;32mIn[37], line 1\u001b[0m\n\u001b[1;32m----> 1\u001b[0m answer_generation_chain \u001b[38;5;241m=\u001b[39m RetrievalQA\u001b[38;5;241m.\u001b[39mfrom_chain_type(llm \u001b[38;5;241m=\u001b[39m \u001b[43mllm_ans_genrater\u001b[49m,\n\u001b[0;32m      2\u001b[0m                                                       chain_type\u001b[38;5;241m=\u001b[39m\u001b[38;5;124m\"\u001b[39m\u001b[38;5;124mstuff\u001b[39m\u001b[38;5;124m\"\u001b[39m,\n\u001b[0;32m      3\u001b[0m                                                       retriever\u001b[38;5;241m=\u001b[39mvector_store\n\u001b[0;32m      4\u001b[0m                                                       )\n",
      "\u001b[1;31mNameError\u001b[0m: name 'llm_ans_genrater' is not defined"
     ]
    }
   ],
   "source": [
    "answer_generation_chain = RetrievalQA.from_chain_type(llm = llm_ans_genrater,\n",
    "                                                      chain_type=\"stuff\",\n",
    "                                                      retriever=vector_store\n",
    "                                                      )"
   ]
  },
  {
   "cell_type": "code",
   "execution_count": null,
   "id": "cf84e084",
   "metadata": {},
   "outputs": [
    {
     "ename": "NameError",
     "evalue": "name 'questions_list' is not defined",
     "output_type": "error",
     "traceback": [
      "\u001b[1;31m---------------------------------------------------------------------------\u001b[0m",
      "\u001b[1;31mNameError\u001b[0m                                 Traceback (most recent call last)",
      "Cell \u001b[1;32mIn[38], line 2\u001b[0m\n\u001b[0;32m      1\u001b[0m \u001b[38;5;66;03m#Answer each question and Save to a file.\u001b[39;00m\n\u001b[1;32m----> 2\u001b[0m \u001b[38;5;28;01mfor\u001b[39;00m que \u001b[38;5;129;01min\u001b[39;00m \u001b[43mquestions_list\u001b[49m:\n\u001b[0;32m      3\u001b[0m     \u001b[38;5;28mprint\u001b[39m(\u001b[38;5;124m\"\u001b[39m\u001b[38;5;124mQuestions:\u001b[39m\u001b[38;5;124m\"\u001b[39m, que)\n\u001b[0;32m      4\u001b[0m     answer \u001b[38;5;241m=\u001b[39m answer_generation_chain\u001b[38;5;241m.\u001b[39mrun(que)\n",
      "\u001b[1;31mNameError\u001b[0m: name 'questions_list' is not defined"
     ]
    }
   ],
   "source": [
    "#Answer each question and Save to a file.\n",
    "for que in questions_list:\n",
    "    print(\"Questions:\", que)\n",
    "    answer = answer_generation_chain.run(que)\n",
    "    print(\"Answer:\", answer)\n",
    "    print(\"---------------------------\\\\n\\\\n\")\n",
    "    #saving\n",
    "    with open(\"Answer.txt\", \"a\") as ref:\n",
    "        ref.write(\"Question:\"+ que + \"\\\\n\")\n",
    "        ref.write(\"Answer:\" + answer + \"\\\\n\")\n",
    "        ref.write(\"----------------------------\")\n"
   ]
  },
  {
   "cell_type": "code",
   "execution_count": null,
   "id": "a5b0c2cd",
   "metadata": {},
   "outputs": [],
   "source": []
  }
 ],
 "metadata": {
  "kernelspec": {
   "display_name": "interview_q_creater",
   "language": "python",
   "name": "python3"
  },
  "language_info": {
   "codemirror_mode": {
    "name": "ipython",
    "version": 3
   },
   "file_extension": ".py",
   "mimetype": "text/x-python",
   "name": "python",
   "nbconvert_exporter": "python",
   "pygments_lexer": "ipython3",
   "version": "3.10.16"
  }
 },
 "nbformat": 4,
 "nbformat_minor": 5
}
